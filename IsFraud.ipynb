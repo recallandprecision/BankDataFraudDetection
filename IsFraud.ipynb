{
 "cells": [
  {
   "cell_type": "markdown",
   "id": "cfcfcc02",
   "metadata": {},
   "source": [
    "##### Importing Important Libraries"
   ]
  },
  {
   "cell_type": "code",
   "execution_count": 875,
   "id": "628bc90f",
   "metadata": {},
   "outputs": [],
   "source": [
    "import numpy as np\n",
    "import pandas as pd\n",
    "from sklearn.feature_selection import VarianceThreshold\n",
    "from sklearn.model_selection import train_test_split\n",
    "from matplotlib import pyplot as plt\n",
    "import seaborn as sns\n",
    "from sklearn import preprocessing\n",
    "from scipy import stats\n",
    "from sklearn.ensemble import RandomForestRegressor, RandomForestClassifier\n",
    "from sklearn.metrics import roc_auc_score\n",
    "from sklearn.metrics import r2_score\n",
    "from mlxtend.feature_selection import SequentialFeatureSelector as SFS\n",
    "import warnings\n",
    "warnings.filterwarnings(\"ignore\")"
   ]
  },
  {
   "cell_type": "code",
   "execution_count": 977,
   "id": "cbe561d8",
   "metadata": {},
   "outputs": [],
   "source": [
    "# !pip install (unavailable libraries)"
   ]
  },
  {
   "cell_type": "markdown",
   "id": "e994efdf",
   "metadata": {},
   "source": [
    "##### "
   ]
  },
  {
   "cell_type": "markdown",
   "id": "3eee229c",
   "metadata": {},
   "source": [
    "##### Reading the data in json format and converting it to a Dataframe"
   ]
  },
  {
   "cell_type": "code",
   "execution_count": 876,
   "id": "9a86bf07",
   "metadata": {},
   "outputs": [],
   "source": [
    "import json\n",
    "l=[]\n",
    "with open('transactions.txt', 'r') as fobj:\n",
    "    for j in fobj:\n",
    "        #print(j)\n",
    "        json_object = json.loads(j)\n",
    "        l.append(json_object)\n",
    "data = pd.json_normalize(l)"
   ]
  },
  {
   "cell_type": "code",
   "execution_count": 877,
   "id": "7ff014bf",
   "metadata": {},
   "outputs": [
    {
     "data": {
      "text/plain": [
       "(786363, 29)"
      ]
     },
     "execution_count": 877,
     "metadata": {},
     "output_type": "execute_result"
    }
   ],
   "source": [
    "(data).shape"
   ]
  },
  {
   "cell_type": "markdown",
   "id": "843998de",
   "metadata": {},
   "source": [
    "##### summarizing the data"
   ]
  },
  {
   "cell_type": "code",
   "execution_count": 878,
   "id": "2bb85c6a",
   "metadata": {},
   "outputs": [
    {
     "name": "stdout",
     "output_type": "stream",
     "text": [
      "<class 'pandas.core.frame.DataFrame'>\n",
      "RangeIndex: 786363 entries, 0 to 786362\n",
      "Data columns (total 29 columns):\n",
      " #   Column                    Non-Null Count   Dtype  \n",
      "---  ------                    --------------   -----  \n",
      " 0   accountNumber             786363 non-null  object \n",
      " 1   customerId                786363 non-null  object \n",
      " 2   creditLimit               786363 non-null  float64\n",
      " 3   availableMoney            786363 non-null  float64\n",
      " 4   transactionDateTime       786363 non-null  object \n",
      " 5   transactionAmount         786363 non-null  float64\n",
      " 6   merchantName              786363 non-null  object \n",
      " 7   acqCountry                786363 non-null  object \n",
      " 8   merchantCountryCode       786363 non-null  object \n",
      " 9   posEntryMode              786363 non-null  object \n",
      " 10  posConditionCode          786363 non-null  object \n",
      " 11  merchantCategoryCode      786363 non-null  object \n",
      " 12  currentExpDate            786363 non-null  object \n",
      " 13  accountOpenDate           786363 non-null  object \n",
      " 14  dateOfLastAddressChange   786363 non-null  object \n",
      " 15  cardCVV                   786363 non-null  object \n",
      " 16  enteredCVV                786363 non-null  object \n",
      " 17  cardLast4Digits           786363 non-null  object \n",
      " 18  transactionType           786363 non-null  object \n",
      " 19  echoBuffer                786363 non-null  object \n",
      " 20  currentBalance            786363 non-null  float64\n",
      " 21  merchantCity              786363 non-null  object \n",
      " 22  merchantState             786363 non-null  object \n",
      " 23  merchantZip               786363 non-null  object \n",
      " 24  cardPresent               786363 non-null  bool   \n",
      " 25  posOnPremises             786363 non-null  object \n",
      " 26  recurringAuthInd          786363 non-null  object \n",
      " 27  expirationDateKeyInMatch  786363 non-null  bool   \n",
      " 28  isFraud                   786363 non-null  bool   \n",
      "dtypes: bool(3), float64(4), object(22)\n",
      "memory usage: 158.2+ MB\n"
     ]
    }
   ],
   "source": [
    "data.info()"
   ]
  },
  {
   "cell_type": "code",
   "execution_count": 879,
   "id": "47af3942",
   "metadata": {},
   "outputs": [
    {
     "data": {
      "text/html": [
       "<div>\n",
       "<style scoped>\n",
       "    .dataframe tbody tr th:only-of-type {\n",
       "        vertical-align: middle;\n",
       "    }\n",
       "\n",
       "    .dataframe tbody tr th {\n",
       "        vertical-align: top;\n",
       "    }\n",
       "\n",
       "    .dataframe thead th {\n",
       "        text-align: right;\n",
       "    }\n",
       "</style>\n",
       "<table border=\"1\" class=\"dataframe\">\n",
       "  <thead>\n",
       "    <tr style=\"text-align: right;\">\n",
       "      <th></th>\n",
       "      <th>creditLimit</th>\n",
       "      <th>availableMoney</th>\n",
       "      <th>transactionAmount</th>\n",
       "      <th>currentBalance</th>\n",
       "    </tr>\n",
       "  </thead>\n",
       "  <tbody>\n",
       "    <tr>\n",
       "      <th>count</th>\n",
       "      <td>786363.000000</td>\n",
       "      <td>786363.000000</td>\n",
       "      <td>786363.000000</td>\n",
       "      <td>786363.000000</td>\n",
       "    </tr>\n",
       "    <tr>\n",
       "      <th>mean</th>\n",
       "      <td>10759.464459</td>\n",
       "      <td>6250.725369</td>\n",
       "      <td>136.985791</td>\n",
       "      <td>4508.739089</td>\n",
       "    </tr>\n",
       "    <tr>\n",
       "      <th>std</th>\n",
       "      <td>11636.174890</td>\n",
       "      <td>8880.783989</td>\n",
       "      <td>147.725569</td>\n",
       "      <td>6457.442068</td>\n",
       "    </tr>\n",
       "    <tr>\n",
       "      <th>min</th>\n",
       "      <td>250.000000</td>\n",
       "      <td>-1005.630000</td>\n",
       "      <td>0.000000</td>\n",
       "      <td>0.000000</td>\n",
       "    </tr>\n",
       "    <tr>\n",
       "      <th>25%</th>\n",
       "      <td>5000.000000</td>\n",
       "      <td>1077.420000</td>\n",
       "      <td>33.650000</td>\n",
       "      <td>689.910000</td>\n",
       "    </tr>\n",
       "    <tr>\n",
       "      <th>50%</th>\n",
       "      <td>7500.000000</td>\n",
       "      <td>3184.860000</td>\n",
       "      <td>87.900000</td>\n",
       "      <td>2451.760000</td>\n",
       "    </tr>\n",
       "    <tr>\n",
       "      <th>75%</th>\n",
       "      <td>15000.000000</td>\n",
       "      <td>7500.000000</td>\n",
       "      <td>191.480000</td>\n",
       "      <td>5291.095000</td>\n",
       "    </tr>\n",
       "    <tr>\n",
       "      <th>max</th>\n",
       "      <td>50000.000000</td>\n",
       "      <td>50000.000000</td>\n",
       "      <td>2011.540000</td>\n",
       "      <td>47498.810000</td>\n",
       "    </tr>\n",
       "  </tbody>\n",
       "</table>\n",
       "</div>"
      ],
      "text/plain": [
       "         creditLimit  availableMoney  transactionAmount  currentBalance\n",
       "count  786363.000000   786363.000000      786363.000000   786363.000000\n",
       "mean    10759.464459     6250.725369         136.985791     4508.739089\n",
       "std     11636.174890     8880.783989         147.725569     6457.442068\n",
       "min       250.000000    -1005.630000           0.000000        0.000000\n",
       "25%      5000.000000     1077.420000          33.650000      689.910000\n",
       "50%      7500.000000     3184.860000          87.900000     2451.760000\n",
       "75%     15000.000000     7500.000000         191.480000     5291.095000\n",
       "max     50000.000000    50000.000000        2011.540000    47498.810000"
      ]
     },
     "execution_count": 879,
     "metadata": {},
     "output_type": "execute_result"
    }
   ],
   "source": [
    "data.describe()"
   ]
  },
  {
   "cell_type": "code",
   "execution_count": 880,
   "id": "4e283d2d",
   "metadata": {},
   "outputs": [
    {
     "data": {
      "text/plain": [
       "Index(['accountNumber', 'customerId', 'creditLimit', 'availableMoney',\n",
       "       'transactionDateTime', 'transactionAmount', 'merchantName',\n",
       "       'acqCountry', 'merchantCountryCode', 'posEntryMode', 'posConditionCode',\n",
       "       'merchantCategoryCode', 'currentExpDate', 'accountOpenDate',\n",
       "       'dateOfLastAddressChange', 'cardCVV', 'enteredCVV', 'cardLast4Digits',\n",
       "       'transactionType', 'echoBuffer', 'currentBalance', 'merchantCity',\n",
       "       'merchantState', 'merchantZip', 'cardPresent', 'posOnPremises',\n",
       "       'recurringAuthInd', 'expirationDateKeyInMatch', 'isFraud'],\n",
       "      dtype='object')"
      ]
     },
     "execution_count": 880,
     "metadata": {},
     "output_type": "execute_result"
    }
   ],
   "source": [
    "data.columns"
   ]
  },
  {
   "cell_type": "markdown",
   "id": "b57a3ef8",
   "metadata": {},
   "source": [
    "##### "
   ]
  },
  {
   "cell_type": "markdown",
   "id": "c8b99518",
   "metadata": {},
   "source": [
    "##### Null Values check and handling"
   ]
  },
  {
   "cell_type": "code",
   "execution_count": 881,
   "id": "482193e5",
   "metadata": {},
   "outputs": [
    {
     "name": "stdout",
     "output_type": "stream",
     "text": [
      "0\n",
      "acqCountry 4562\n",
      "merchantCountryCode 724\n",
      "posEntryMode 4054\n",
      "posConditionCode 409\n",
      "transactionType 698\n",
      "echoBuffer 786363\n",
      "merchantCity 786363\n",
      "merchantState 786363\n",
      "merchantZip 786363\n",
      "posOnPremises 786363\n",
      "recurringAuthInd 786363\n"
     ]
    },
    {
     "data": {
      "text/plain": [
       "accountNumber                    0\n",
       "customerId                       0\n",
       "creditLimit                      0\n",
       "availableMoney                   0\n",
       "transactionDateTime              0\n",
       "transactionAmount                0\n",
       "merchantName                     0\n",
       "acqCountry                    4562\n",
       "merchantCountryCode            724\n",
       "posEntryMode                  4054\n",
       "posConditionCode               409\n",
       "merchantCategoryCode             0\n",
       "currentExpDate                   0\n",
       "accountOpenDate                  0\n",
       "dateOfLastAddressChange          0\n",
       "cardCVV                          0\n",
       "enteredCVV                       0\n",
       "cardLast4Digits                  0\n",
       "transactionType                698\n",
       "echoBuffer                  786363\n",
       "currentBalance                   0\n",
       "merchantCity                786363\n",
       "merchantState               786363\n",
       "merchantZip                 786363\n",
       "cardPresent                      0\n",
       "posOnPremises               786363\n",
       "recurringAuthInd            786363\n",
       "expirationDateKeyInMatch         0\n",
       "isFraud                          0\n",
       "dtype: int64"
      ]
     },
     "execution_count": 881,
     "metadata": {},
     "output_type": "execute_result"
    }
   ],
   "source": [
    "print(data.isnull().sum().sum())\n",
    "\n",
    "# No null values in the data but there are empty strings which I am assuming null values\n",
    "\n",
    "# empty string columns values ''\n",
    "\n",
    "for i in data:\n",
    "    if (data[i]=='').sum()>1:\n",
    "        print(i,(data[i]=='').sum())\n",
    "\n",
    "data=data.replace(r'^\\s*$', np.nan, regex=True)\n",
    "data.isnull().sum()"
   ]
  },
  {
   "cell_type": "markdown",
   "id": "d8599d00",
   "metadata": {},
   "source": [
    "##### "
   ]
  },
  {
   "cell_type": "markdown",
   "id": "9a3ea8d7",
   "metadata": {},
   "source": [
    "##### Dropping constant variables which means the variance within that column is 0 and hence it adds no value to the model"
   ]
  },
  {
   "cell_type": "code",
   "execution_count": 882,
   "id": "cd443612",
   "metadata": {},
   "outputs": [
    {
     "name": "stdout",
     "output_type": "stream",
     "text": [
      "accountNumber : 5000\n",
      "customerId : 5000\n",
      "creditLimit : 10\n",
      "availableMoney : 521916\n",
      "transactionDateTime : 776637\n",
      "transactionAmount : 66038\n",
      "merchantName : 2490\n",
      "acqCountry : 5\n",
      "merchantCountryCode : 5\n",
      "posEntryMode : 6\n",
      "posConditionCode : 4\n",
      "merchantCategoryCode : 19\n",
      "currentExpDate : 165\n",
      "accountOpenDate : 1820\n",
      "dateOfLastAddressChange : 2184\n",
      "cardCVV : 899\n",
      "enteredCVV : 976\n",
      "cardLast4Digits : 5246\n",
      "transactionType : 4\n",
      "echoBuffer : 1\n",
      "currentBalance : 487318\n",
      "merchantCity : 1\n",
      "merchantState : 1\n",
      "merchantZip : 1\n",
      "cardPresent : 2\n",
      "posOnPremises : 1\n",
      "recurringAuthInd : 1\n",
      "expirationDateKeyInMatch : 2\n",
      "isFraud : 2\n",
      "dropping constant variables ['echoBuffer', 'merchantCity', 'merchantState', 'merchantZip', 'posOnPremises', 'recurringAuthInd']\n"
     ]
    }
   ],
   "source": [
    "l=[]\n",
    "for col in data.columns:\n",
    "    print(col,':',len(data[col].unique()))\n",
    "    if len(data[col].unique())==1:\n",
    "        l.append(col)\n",
    "print(\"dropping constant variables\",l)\n",
    "data.drop(l,1,inplace=True)  # dropping constant variable as they add no value\n",
    "#data.dropna(inplace=True)"
   ]
  },
  {
   "cell_type": "code",
   "execution_count": 883,
   "id": "a7f982dc",
   "metadata": {},
   "outputs": [
    {
     "data": {
      "text/plain": [
       "accountNumber               0\n",
       "customerId                  0\n",
       "creditLimit                 0\n",
       "availableMoney              0\n",
       "transactionDateTime         0\n",
       "transactionAmount           0\n",
       "merchantName                0\n",
       "acqCountry                  0\n",
       "merchantCountryCode         0\n",
       "posEntryMode                0\n",
       "posConditionCode            0\n",
       "merchantCategoryCode        0\n",
       "currentExpDate              0\n",
       "accountOpenDate             0\n",
       "dateOfLastAddressChange     0\n",
       "cardCVV                     0\n",
       "enteredCVV                  0\n",
       "cardLast4Digits             0\n",
       "transactionType             0\n",
       "currentBalance              0\n",
       "cardPresent                 0\n",
       "expirationDateKeyInMatch    0\n",
       "isFraud                     0\n",
       "dtype: int64"
      ]
     },
     "execution_count": 883,
     "metadata": {},
     "output_type": "execute_result"
    }
   ],
   "source": [
    "data.fillna(data.mode().iloc[0],inplace=True)\n",
    "data.isnull().sum()"
   ]
  },
  {
   "cell_type": "markdown",
   "id": "be394830",
   "metadata": {},
   "source": [
    "Since all null values were in categorical data columns, I have used mode of that column to fill Nan values. These values could be dropped as well which would would result in data loss."
   ]
  },
  {
   "cell_type": "markdown",
   "id": "1c72736b",
   "metadata": {},
   "source": [
    "##### "
   ]
  },
  {
   "cell_type": "code",
   "execution_count": 884,
   "id": "978319fc",
   "metadata": {},
   "outputs": [
    {
     "data": {
      "text/plain": [
       "<AxesSubplot:>"
      ]
     },
     "execution_count": 884,
     "metadata": {},
     "output_type": "execute_result"
    },
    {
     "data": {
      "image/png": "[encoded data removed]",
      "text/plain": [
       "<Figure size 432x288 with 1 Axes>"
      ]
     },
     "metadata": {
      "needs_background": "light"
     },
     "output_type": "display_data"
    }
   ],
   "source": [
    "data.transactionAmount.hist()"
   ]
  },
  {
   "cell_type": "markdown",
   "id": "ac75aa92",
   "metadata": {},
   "source": [
    "Histogram of transaction amount is a highly right skewed distribution"
   ]
  },
  {
   "cell_type": "code",
   "execution_count": 885,
   "id": "c83e3da3",
   "metadata": {},
   "outputs": [
    {
     "data": {
      "text/plain": [
       "0.00      22225\n",
       "8.21        132\n",
       "49.30       125\n",
       "8.81        124\n",
       "4.39        120\n",
       "          ...  \n",
       "534.26        1\n",
       "475.93        1\n",
       "732.02        1\n",
       "518.19        1\n",
       "624.07        1\n",
       "Name: transactionAmount, Length: 66038, dtype: int64"
      ]
     },
     "execution_count": 885,
     "metadata": {},
     "output_type": "execute_result"
    }
   ],
   "source": [
    "(data.transactionAmount).value_counts()"
   ]
  },
  {
   "cell_type": "code",
   "execution_count": 886,
   "id": "cc859b25",
   "metadata": {},
   "outputs": [
    {
     "data": {
      "text/plain": [
       "False    22103\n",
       "True       122\n",
       "Name: isFraud, dtype: int64"
      ]
     },
     "execution_count": 886,
     "metadata": {},
     "output_type": "execute_result"
    }
   ],
   "source": [
    "data[data.transactionAmount==0.0].isFraud.value_counts()"
   ]
  },
  {
   "cell_type": "markdown",
   "id": "1ffae701",
   "metadata": {},
   "source": [
    "I see that there are 22225 0$ transactions of which, most are not fraud (only 122 row items are classified as Fraud)"
   ]
  },
  {
   "cell_type": "markdown",
   "id": "e92ed3ef",
   "metadata": {},
   "source": [
    "##### "
   ]
  },
  {
   "cell_type": "markdown",
   "id": "2b423c10",
   "metadata": {},
   "source": [
    "##### "
   ]
  },
  {
   "cell_type": "code",
   "execution_count": 887,
   "id": "1a0e0022",
   "metadata": {},
   "outputs": [
    {
     "data": {
      "text/plain": [
       "ADDRESS_VERIFICATION    20169\n",
       "PURCHASE                 1484\n",
       "REVERSAL                  572\n",
       "Name: transactionType, dtype: int64"
      ]
     },
     "execution_count": 887,
     "metadata": {},
     "output_type": "execute_result"
    }
   ],
   "source": [
    "data[data.transactionAmount==0.0].transactionType.value_counts()"
   ]
  },
  {
   "cell_type": "code",
   "execution_count": 888,
   "id": "5e947550",
   "metadata": {},
   "outputs": [
    {
     "data": {
      "text/plain": [
       "PURCHASE                745891\n",
       "REVERSAL                 20303\n",
       "ADDRESS_VERIFICATION     20169\n",
       "Name: transactionType, dtype: int64"
      ]
     },
     "execution_count": 888,
     "metadata": {},
     "output_type": "execute_result"
    }
   ],
   "source": [
    "data.transactionType.value_counts()"
   ]
  },
  {
   "cell_type": "markdown",
   "id": "fd0d45b2",
   "metadata": {},
   "source": [
    "All transaction type of address_verification has a transaction amount of 0.0"
   ]
  },
  {
   "cell_type": "markdown",
   "id": "d1fb4951",
   "metadata": {},
   "source": [
    "##### "
   ]
  },
  {
   "cell_type": "markdown",
   "id": "657b7bc5",
   "metadata": {},
   "source": [
    "###### Checking for patterns in different features"
   ]
  },
  {
   "cell_type": "code",
   "execution_count": 889,
   "id": "1fe840d9",
   "metadata": {},
   "outputs": [
    {
     "data": {
      "text/plain": [
       "<AxesSubplot:xlabel='creditLimit'>"
      ]
     },
     "execution_count": 889,
     "metadata": {},
     "output_type": "execute_result"
    },
    {
     "data": {
      "image/png": "[encoded data removed]",
      "text/plain": [
       "<Figure size 432x288 with 1 Axes>"
      ]
     },
     "metadata": {
      "needs_background": "light"
     },
     "output_type": "display_data"
    }
   ],
   "source": [
    "(data[data.isFraud==True].groupby('creditLimit').count()['isFraud']).plot(kind='bar')"
   ]
  },
  {
   "cell_type": "markdown",
   "id": "76b1f035",
   "metadata": {},
   "source": [
    "Most of the Fraudulent transactions are for those accounts having credit limit as 5000\\\\$ and 15000\\\\$"
   ]
  },
  {
   "cell_type": "markdown",
   "id": "139ef5f9",
   "metadata": {},
   "source": [
    "##### "
   ]
  },
  {
   "cell_type": "code",
   "execution_count": 890,
   "id": "9e521822",
   "metadata": {},
   "outputs": [
    {
     "data": {
      "text/plain": [
       "<AxesSubplot:xlabel='merchantCategoryCode'>"
      ]
     },
     "execution_count": 890,
     "metadata": {},
     "output_type": "execute_result"
    },
    {
     "data": {
      "image/png": "[encoded data removed]",
      "text/plain": [
       "<Figure size 432x288 with 1 Axes>"
      ]
     },
     "metadata": {
      "needs_background": "light"
     },
     "output_type": "display_data"
    }
   ],
   "source": [
    "(data[data.isFraud==True].groupby('merchantCategoryCode').count()['isFraud']).plot(kind='bar')\n",
    "# online retail has maximum number of frauds"
   ]
  },
  {
   "cell_type": "markdown",
   "id": "848098e1",
   "metadata": {},
   "source": [
    "For all merchant categories, most of the Fraudulent transactions are within the Online Retail category. So I will be focussing on this while feature engineering as this a trend/pattern in the data!"
   ]
  },
  {
   "cell_type": "markdown",
   "id": "ebdb0643",
   "metadata": {},
   "source": [
    "##### "
   ]
  },
  {
   "cell_type": "code",
   "execution_count": 891,
   "id": "ab6a3f64",
   "metadata": {},
   "outputs": [
    {
     "name": "stdout",
     "output_type": "stream",
     "text": [
      "True     779348\n",
      "False      7015\n",
      "dtype: int64\n"
     ]
    },
    {
     "data": {
      "image/png": "[encoded data removed]",
      "text/plain": [
       "<Figure size 432x288 with 1 Axes>"
      ]
     },
     "metadata": {
      "needs_background": "light"
     },
     "output_type": "display_data"
    }
   ],
   "source": [
    "#assumption: if cvv not correctly entered, it might be a fraud transaction\n",
    "\n",
    "#checking the number of correct cvv entered\n",
    "(data.cardCVV==data.enteredCVV).value_counts().plot(kind='bar')\n",
    "print((data.cardCVV==data.enteredCVV).value_counts())"
   ]
  },
  {
   "cell_type": "markdown",
   "id": "708ca978",
   "metadata": {},
   "source": [
    "There are 7015 records fro which the entered cvv is wrong. My hypothesis is that a person might be trying to scam or make a fraudulent transaction in such a case although it might be a human error as well."
   ]
  },
  {
   "cell_type": "code",
   "execution_count": 892,
   "id": "1877f4d4",
   "metadata": {},
   "outputs": [
    {
     "data": {
      "text/plain": [
       "203"
      ]
     },
     "execution_count": 892,
     "metadata": {},
     "output_type": "execute_result"
    }
   ],
   "source": [
    "(data[data.isFraud==True].cardCVV!=data[data.isFraud==True].enteredCVV).sum()"
   ]
  },
  {
   "cell_type": "markdown",
   "id": "6b8df809",
   "metadata": {},
   "source": [
    "There are 203 fraud transaction cases where entered cvv is not the actual cvv."
   ]
  },
  {
   "cell_type": "markdown",
   "id": "93f8f968",
   "metadata": {},
   "source": [
    "##### "
   ]
  },
  {
   "cell_type": "markdown",
   "id": "61986642",
   "metadata": {},
   "source": [
    "###### Transaction distribution of only Fraud Transactions"
   ]
  },
  {
   "cell_type": "code",
   "execution_count": 893,
   "id": "13567c4f",
   "metadata": {},
   "outputs": [
    {
     "name": "stdout",
     "output_type": "stream",
     "text": [
      "AxesSubplot(0.125,0.125;0.775x0.755)\n",
      "count    12417.000000\n",
      "mean       225.215905\n",
      "std        189.551393\n",
      "min          0.000000\n",
      "25%         86.000000\n",
      "50%        176.980000\n",
      "75%        311.460000\n",
      "max       1608.350000\n",
      "Name: transactionAmount, dtype: float64\n"
     ]
    },
    {
     "data": {
      "image/png": "[encoded data removed]",
      "text/plain": [
       "<Figure size 432x288 with 1 Axes>"
      ]
     },
     "metadata": {
      "needs_background": "light"
     },
     "output_type": "display_data"
    }
   ],
   "source": [
    "print(data[data.isFraud==True].transactionAmount.plot(kind='hist'))\n",
    "print(data[data.isFraud==True].transactionAmount.describe())"
   ]
  },
  {
   "cell_type": "markdown",
   "id": "d4c1524a",
   "metadata": {},
   "source": [
    "The above plot shows a similar plot to all transactions which is positively skewed or right skewed"
   ]
  },
  {
   "cell_type": "markdown",
   "id": "6bbf716b",
   "metadata": {},
   "source": [
    "# "
   ]
  },
  {
   "cell_type": "markdown",
   "id": "c9613c56",
   "metadata": {},
   "source": [
    "##### Checking fraud with account numbers which should be unique for every individual"
   ]
  },
  {
   "cell_type": "code",
   "execution_count": 894,
   "id": "7bba58f8",
   "metadata": {},
   "outputs": [
    {
     "name": "stdout",
     "output_type": "stream",
     "text": [
      "380680241    783\n",
      "782081187    307\n",
      "246251253    278\n",
      "700725639    272\n",
      "472288969    266\n",
      "208319653    211\n",
      "419709514    207\n",
      "369308035    136\n",
      "794398270    135\n",
      "132629755    116\n",
      "269616174    112\n",
      "374358603    104\n",
      "882815134     97\n",
      "654507597     93\n",
      "307632490     93\n",
      "Name: accountNumber, dtype: int64\n",
      "\n",
      "Total contribution towards frauds= 25.85165498912781\n"
     ]
    },
    {
     "data": {
      "image/png": "[encoded data removed]",
      "text/plain": [
       "<Figure size 432x288 with 1 Axes>"
      ]
     },
     "metadata": {
      "needs_background": "light"
     },
     "output_type": "display_data"
    }
   ],
   "source": [
    "data[data.isFraud==True].accountNumber.value_counts()[:15].plot(kind='bar')\n",
    "print(data[data.isFraud==True].accountNumber.value_counts()[:15])\n",
    "print()\n",
    "print('Total contribution towards frauds=',data[data.isFraud==True].accountNumber.value_counts()[:15].sum()*100/data.isFraud.sum())"
   ]
  },
  {
   "cell_type": "markdown",
   "id": "9059a497",
   "metadata": {},
   "source": [
    "About 26% of total fraud transactions are from above top 15 account numbers"
   ]
  },
  {
   "cell_type": "markdown",
   "id": "c34b6dca",
   "metadata": {},
   "source": [
    "##### "
   ]
  },
  {
   "cell_type": "markdown",
   "id": "f15605cd",
   "metadata": {},
   "source": [
    "###### Fraud transaction on last 4 digits of card numbers"
   ]
  },
  {
   "cell_type": "code",
   "execution_count": 895,
   "id": "26a834c3",
   "metadata": {},
   "outputs": [
    {
     "name": "stdout",
     "output_type": "stream",
     "text": [
      "593     783\n",
      "6002    278\n",
      "9522    272\n",
      "7629    211\n",
      "2178    207\n",
      "7654    155\n",
      "7256    153\n",
      "8971    139\n",
      "1142    127\n",
      "8208    116\n",
      "Name: cardLast4Digits, dtype: int64\n",
      "\n",
      "Total contribution towards frauds= 19.658532656841427\n"
     ]
    },
    {
     "data": {
      "image/png": "[encoded data removed]",
      "text/plain": [
       "<Figure size 432x288 with 1 Axes>"
      ]
     },
     "metadata": {
      "needs_background": "light"
     },
     "output_type": "display_data"
    }
   ],
   "source": [
    "data[data.isFraud==True].cardLast4Digits.value_counts()[:10].plot(kind='bar')\n",
    "print(data[data.isFraud==True].cardLast4Digits.value_counts()[:10])\n",
    "print()\n",
    "print('Total contribution towards frauds=',data[data.isFraud==True].cardLast4Digits.value_counts()[:10].sum()*100/data.isFraud.sum())"
   ]
  },
  {
   "cell_type": "markdown",
   "id": "f46457f8",
   "metadata": {},
   "source": [
    "About 1/5th of the fraud transactions are from the above top 10 card numbers\n"
   ]
  },
  {
   "cell_type": "markdown",
   "id": "78c84f82",
   "metadata": {},
   "source": [
    "But there is a possibility that last 4 digits are same for n users so I will keep that in mind while feature engineering and modeling"
   ]
  },
  {
   "cell_type": "markdown",
   "id": "c6c586a6",
   "metadata": {},
   "source": [
    "##### "
   ]
  },
  {
   "cell_type": "markdown",
   "id": "c5d8c643",
   "metadata": {},
   "source": [
    "#### The correlation of above 2 bar plots is high so we can say that these are almost the same transaction records. I will be dropping the correlated variables after feature engineering."
   ]
  },
  {
   "cell_type": "markdown",
   "id": "1663d755",
   "metadata": {},
   "source": [
    "##### "
   ]
  },
  {
   "cell_type": "markdown",
   "id": "0f73f210",
   "metadata": {},
   "source": [
    "##### % of fraud transactions as per merchant country code"
   ]
  },
  {
   "cell_type": "code",
   "execution_count": 896,
   "id": "9cfab8f5",
   "metadata": {},
   "outputs": [
    {
     "data": {
      "text/plain": [
       "<AxesSubplot:>"
      ]
     },
     "execution_count": 896,
     "metadata": {},
     "output_type": "execute_result"
    },
    {
     "data": {
      "image/png": "[encoded data removed]",
      "text/plain": [
       "<Figure size 432x288 with 1 Axes>"
      ]
     },
     "metadata": {
      "needs_background": "light"
     },
     "output_type": "display_data"
    }
   ],
   "source": [
    "(data[data.isFraud==True].merchantCountryCode.value_counts()*100/data.merchantCountryCode.value_counts()).plot(kind='bar')"
   ]
  },
  {
   "cell_type": "markdown",
   "id": "bce74905",
   "metadata": {},
   "source": [
    "###### "
   ]
  },
  {
   "cell_type": "markdown",
   "id": "fbb7fede",
   "metadata": {},
   "source": [
    "I will be using the above patterns that I found out in feature engineering so as to use these patterns and help the model indentify these patterns to make a better prediction!"
   ]
  },
  {
   "cell_type": "markdown",
   "id": "e282ff46",
   "metadata": {},
   "source": [
    "##### "
   ]
  },
  {
   "cell_type": "markdown",
   "id": "12c5eb86",
   "metadata": {},
   "source": [
    "##### Duplicates check"
   ]
  },
  {
   "cell_type": "markdown",
   "id": "7ab58a5e",
   "metadata": {},
   "source": [
    "As per given condition, I am grouping by 'accountNumber','merchantName'and 'transactionAmount' and then finding all the reversed transactions. \n",
    "\n",
    "Thereafter, I will use the datetime library to differentiate the transactionDateTime column to see if a vendor charged the same amount to a customer within a day's time. If yes, I will assume it is a multi swipe mistake by the vendor and consider it as a duplicated row item."
   ]
  },
  {
   "cell_type": "code",
   "execution_count": 897,
   "id": "f74aa737",
   "metadata": {},
   "outputs": [],
   "source": [
    "df=data.copy()"
   ]
  },
  {
   "cell_type": "code",
   "execution_count": 898,
   "id": "4b2966bb",
   "metadata": {},
   "outputs": [
    {
     "name": "stdout",
     "output_type": "stream",
     "text": [
      "Total fraud transactions for reversal type is 310\n"
     ]
    },
    {
     "data": {
      "text/html": [
       "<div>\n",
       "<style scoped>\n",
       "    .dataframe tbody tr th:only-of-type {\n",
       "        vertical-align: middle;\n",
       "    }\n",
       "\n",
       "    .dataframe tbody tr th {\n",
       "        vertical-align: top;\n",
       "    }\n",
       "\n",
       "    .dataframe thead th {\n",
       "        text-align: right;\n",
       "    }\n",
       "</style>\n",
       "<table border=\"1\" class=\"dataframe\">\n",
       "  <thead>\n",
       "    <tr style=\"text-align: right;\">\n",
       "      <th></th>\n",
       "      <th>accountNumber</th>\n",
       "      <th>customerId</th>\n",
       "      <th>creditLimit</th>\n",
       "      <th>availableMoney</th>\n",
       "      <th>transactionDateTime</th>\n",
       "      <th>transactionAmount</th>\n",
       "      <th>merchantName</th>\n",
       "      <th>acqCountry</th>\n",
       "      <th>merchantCountryCode</th>\n",
       "      <th>posEntryMode</th>\n",
       "      <th>...</th>\n",
       "      <th>accountOpenDate</th>\n",
       "      <th>dateOfLastAddressChange</th>\n",
       "      <th>cardCVV</th>\n",
       "      <th>enteredCVV</th>\n",
       "      <th>cardLast4Digits</th>\n",
       "      <th>transactionType</th>\n",
       "      <th>currentBalance</th>\n",
       "      <th>cardPresent</th>\n",
       "      <th>expirationDateKeyInMatch</th>\n",
       "      <th>isFraud</th>\n",
       "    </tr>\n",
       "  </thead>\n",
       "  <tbody>\n",
       "    <tr>\n",
       "      <th>39</th>\n",
       "      <td>574788567</td>\n",
       "      <td>574788567</td>\n",
       "      <td>2500.0</td>\n",
       "      <td>2200.98</td>\n",
       "      <td>2016-05-24T01:38:03</td>\n",
       "      <td>215.13</td>\n",
       "      <td>Convenient Tire</td>\n",
       "      <td>US</td>\n",
       "      <td>US</td>\n",
       "      <td>09</td>\n",
       "      <td>...</td>\n",
       "      <td>2015-10-13</td>\n",
       "      <td>2015-10-13</td>\n",
       "      <td>206</td>\n",
       "      <td>206</td>\n",
       "      <td>8522</td>\n",
       "      <td>REVERSAL</td>\n",
       "      <td>299.02</td>\n",
       "      <td>True</td>\n",
       "      <td>False</td>\n",
       "      <td>False</td>\n",
       "    </tr>\n",
       "    <tr>\n",
       "      <th>101</th>\n",
       "      <td>924729945</td>\n",
       "      <td>924729945</td>\n",
       "      <td>50000.0</td>\n",
       "      <td>49831.43</td>\n",
       "      <td>2016-10-19T14:01:45</td>\n",
       "      <td>168.57</td>\n",
       "      <td>discount.com</td>\n",
       "      <td>US</td>\n",
       "      <td>US</td>\n",
       "      <td>05</td>\n",
       "      <td>...</td>\n",
       "      <td>2014-07-25</td>\n",
       "      <td>2014-07-25</td>\n",
       "      <td>205</td>\n",
       "      <td>265</td>\n",
       "      <td>9459</td>\n",
       "      <td>REVERSAL</td>\n",
       "      <td>168.57</td>\n",
       "      <td>False</td>\n",
       "      <td>False</td>\n",
       "      <td>False</td>\n",
       "    </tr>\n",
       "    <tr>\n",
       "      <th>133</th>\n",
       "      <td>984504651</td>\n",
       "      <td>984504651</td>\n",
       "      <td>50000.0</td>\n",
       "      <td>46367.41</td>\n",
       "      <td>2016-01-16T09:53:15</td>\n",
       "      <td>450.74</td>\n",
       "      <td>Planet Fitness #849960</td>\n",
       "      <td>US</td>\n",
       "      <td>US</td>\n",
       "      <td>05</td>\n",
       "      <td>...</td>\n",
       "      <td>2015-07-27</td>\n",
       "      <td>2015-07-27</td>\n",
       "      <td>640</td>\n",
       "      <td>640</td>\n",
       "      <td>8332</td>\n",
       "      <td>REVERSAL</td>\n",
       "      <td>3632.59</td>\n",
       "      <td>False</td>\n",
       "      <td>False</td>\n",
       "      <td>False</td>\n",
       "    </tr>\n",
       "    <tr>\n",
       "      <th>156</th>\n",
       "      <td>984504651</td>\n",
       "      <td>984504651</td>\n",
       "      <td>50000.0</td>\n",
       "      <td>41909.30</td>\n",
       "      <td>2016-01-25T20:39:15</td>\n",
       "      <td>81.73</td>\n",
       "      <td>AMC #724446</td>\n",
       "      <td>US</td>\n",
       "      <td>US</td>\n",
       "      <td>09</td>\n",
       "      <td>...</td>\n",
       "      <td>2015-07-27</td>\n",
       "      <td>2015-07-27</td>\n",
       "      <td>640</td>\n",
       "      <td>640</td>\n",
       "      <td>8332</td>\n",
       "      <td>REVERSAL</td>\n",
       "      <td>8090.70</td>\n",
       "      <td>True</td>\n",
       "      <td>False</td>\n",
       "      <td>False</td>\n",
       "    </tr>\n",
       "    <tr>\n",
       "      <th>181</th>\n",
       "      <td>984504651</td>\n",
       "      <td>984504651</td>\n",
       "      <td>50000.0</td>\n",
       "      <td>38090.70</td>\n",
       "      <td>2016-02-04T00:14:42</td>\n",
       "      <td>83.64</td>\n",
       "      <td>1st Sandwitch Bar #801388</td>\n",
       "      <td>US</td>\n",
       "      <td>US</td>\n",
       "      <td>09</td>\n",
       "      <td>...</td>\n",
       "      <td>2015-07-27</td>\n",
       "      <td>2015-07-27</td>\n",
       "      <td>640</td>\n",
       "      <td>640</td>\n",
       "      <td>8332</td>\n",
       "      <td>REVERSAL</td>\n",
       "      <td>11909.30</td>\n",
       "      <td>True</td>\n",
       "      <td>False</td>\n",
       "      <td>False</td>\n",
       "    </tr>\n",
       "    <tr>\n",
       "      <th>...</th>\n",
       "      <td>...</td>\n",
       "      <td>...</td>\n",
       "      <td>...</td>\n",
       "      <td>...</td>\n",
       "      <td>...</td>\n",
       "      <td>...</td>\n",
       "      <td>...</td>\n",
       "      <td>...</td>\n",
       "      <td>...</td>\n",
       "      <td>...</td>\n",
       "      <td>...</td>\n",
       "      <td>...</td>\n",
       "      <td>...</td>\n",
       "      <td>...</td>\n",
       "      <td>...</td>\n",
       "      <td>...</td>\n",
       "      <td>...</td>\n",
       "      <td>...</td>\n",
       "      <td>...</td>\n",
       "      <td>...</td>\n",
       "      <td>...</td>\n",
       "    </tr>\n",
       "    <tr>\n",
       "      <th>786014</th>\n",
       "      <td>205026043</td>\n",
       "      <td>205026043</td>\n",
       "      <td>5000.0</td>\n",
       "      <td>1571.26</td>\n",
       "      <td>2016-09-18T06:08:02</td>\n",
       "      <td>56.26</td>\n",
       "      <td>Lyft</td>\n",
       "      <td>US</td>\n",
       "      <td>US</td>\n",
       "      <td>05</td>\n",
       "      <td>...</td>\n",
       "      <td>2008-04-15</td>\n",
       "      <td>2008-04-15</td>\n",
       "      <td>359</td>\n",
       "      <td>359</td>\n",
       "      <td>258</td>\n",
       "      <td>REVERSAL</td>\n",
       "      <td>3428.74</td>\n",
       "      <td>False</td>\n",
       "      <td>False</td>\n",
       "      <td>False</td>\n",
       "    </tr>\n",
       "    <tr>\n",
       "      <th>786072</th>\n",
       "      <td>288358186</td>\n",
       "      <td>288358186</td>\n",
       "      <td>7500.0</td>\n",
       "      <td>7367.55</td>\n",
       "      <td>2016-08-28T11:21:32</td>\n",
       "      <td>20.66</td>\n",
       "      <td>ebay.com</td>\n",
       "      <td>US</td>\n",
       "      <td>US</td>\n",
       "      <td>09</td>\n",
       "      <td>...</td>\n",
       "      <td>2014-08-21</td>\n",
       "      <td>2014-08-21</td>\n",
       "      <td>355</td>\n",
       "      <td>355</td>\n",
       "      <td>1665</td>\n",
       "      <td>REVERSAL</td>\n",
       "      <td>132.45</td>\n",
       "      <td>False</td>\n",
       "      <td>False</td>\n",
       "      <td>False</td>\n",
       "    </tr>\n",
       "    <tr>\n",
       "      <th>786120</th>\n",
       "      <td>638498773</td>\n",
       "      <td>638498773</td>\n",
       "      <td>10000.0</td>\n",
       "      <td>9798.21</td>\n",
       "      <td>2016-01-01T19:48:03</td>\n",
       "      <td>201.79</td>\n",
       "      <td>KFC #928167</td>\n",
       "      <td>US</td>\n",
       "      <td>US</td>\n",
       "      <td>05</td>\n",
       "      <td>...</td>\n",
       "      <td>2014-11-17</td>\n",
       "      <td>2014-11-17</td>\n",
       "      <td>175</td>\n",
       "      <td>175</td>\n",
       "      <td>321</td>\n",
       "      <td>REVERSAL</td>\n",
       "      <td>201.79</td>\n",
       "      <td>True</td>\n",
       "      <td>False</td>\n",
       "      <td>False</td>\n",
       "    </tr>\n",
       "    <tr>\n",
       "      <th>786219</th>\n",
       "      <td>638498773</td>\n",
       "      <td>638498773</td>\n",
       "      <td>10000.0</td>\n",
       "      <td>5331.33</td>\n",
       "      <td>2016-11-03T04:23:26</td>\n",
       "      <td>86.14</td>\n",
       "      <td>Dunkin' Donuts #396342</td>\n",
       "      <td>US</td>\n",
       "      <td>US</td>\n",
       "      <td>05</td>\n",
       "      <td>...</td>\n",
       "      <td>2014-11-17</td>\n",
       "      <td>2014-11-17</td>\n",
       "      <td>387</td>\n",
       "      <td>387</td>\n",
       "      <td>4635</td>\n",
       "      <td>REVERSAL</td>\n",
       "      <td>4668.67</td>\n",
       "      <td>True</td>\n",
       "      <td>False</td>\n",
       "      <td>False</td>\n",
       "    </tr>\n",
       "    <tr>\n",
       "      <th>786301</th>\n",
       "      <td>732852505</td>\n",
       "      <td>732852505</td>\n",
       "      <td>50000.0</td>\n",
       "      <td>49860.23</td>\n",
       "      <td>2016-06-22T19:07:55</td>\n",
       "      <td>22.55</td>\n",
       "      <td>Uber</td>\n",
       "      <td>US</td>\n",
       "      <td>US</td>\n",
       "      <td>90</td>\n",
       "      <td>...</td>\n",
       "      <td>2012-08-23</td>\n",
       "      <td>2012-08-23</td>\n",
       "      <td>939</td>\n",
       "      <td>939</td>\n",
       "      <td>3388</td>\n",
       "      <td>REVERSAL</td>\n",
       "      <td>139.77</td>\n",
       "      <td>False</td>\n",
       "      <td>False</td>\n",
       "      <td>False</td>\n",
       "    </tr>\n",
       "  </tbody>\n",
       "</table>\n",
       "<p>18363 rows × 23 columns</p>\n",
       "</div>"
      ],
      "text/plain": [
       "       accountNumber customerId  creditLimit  availableMoney  \\\n",
       "39         574788567  574788567       2500.0         2200.98   \n",
       "101        924729945  924729945      50000.0        49831.43   \n",
       "133        984504651  984504651      50000.0        46367.41   \n",
       "156        984504651  984504651      50000.0        41909.30   \n",
       "181        984504651  984504651      50000.0        38090.70   \n",
       "...              ...        ...          ...             ...   \n",
       "786014     205026043  205026043       5000.0         1571.26   \n",
       "786072     288358186  288358186       7500.0         7367.55   \n",
       "786120     638498773  638498773      10000.0         9798.21   \n",
       "786219     638498773  638498773      10000.0         5331.33   \n",
       "786301     732852505  732852505      50000.0        49860.23   \n",
       "\n",
       "        transactionDateTime  transactionAmount               merchantName  \\\n",
       "39      2016-05-24T01:38:03             215.13            Convenient Tire   \n",
       "101     2016-10-19T14:01:45             168.57               discount.com   \n",
       "133     2016-01-16T09:53:15             450.74     Planet Fitness #849960   \n",
       "156     2016-01-25T20:39:15              81.73                AMC #724446   \n",
       "181     2016-02-04T00:14:42              83.64  1st Sandwitch Bar #801388   \n",
       "...                     ...                ...                        ...   \n",
       "786014  2016-09-18T06:08:02              56.26                       Lyft   \n",
       "786072  2016-08-28T11:21:32              20.66                   ebay.com   \n",
       "786120  2016-01-01T19:48:03             201.79                KFC #928167   \n",
       "786219  2016-11-03T04:23:26              86.14     Dunkin' Donuts #396342   \n",
       "786301  2016-06-22T19:07:55              22.55                       Uber   \n",
       "\n",
       "       acqCountry merchantCountryCode posEntryMode  ... accountOpenDate  \\\n",
       "39             US                  US           09  ...      2015-10-13   \n",
       "101            US                  US           05  ...      2014-07-25   \n",
       "133            US                  US           05  ...      2015-07-27   \n",
       "156            US                  US           09  ...      2015-07-27   \n",
       "181            US                  US           09  ...      2015-07-27   \n",
       "...           ...                 ...          ...  ...             ...   \n",
       "786014         US                  US           05  ...      2008-04-15   \n",
       "786072         US                  US           09  ...      2014-08-21   \n",
       "786120         US                  US           05  ...      2014-11-17   \n",
       "786219         US                  US           05  ...      2014-11-17   \n",
       "786301         US                  US           90  ...      2012-08-23   \n",
       "\n",
       "       dateOfLastAddressChange cardCVV enteredCVV cardLast4Digits  \\\n",
       "39                  2015-10-13     206        206            8522   \n",
       "101                 2014-07-25     205        265            9459   \n",
       "133                 2015-07-27     640        640            8332   \n",
       "156                 2015-07-27     640        640            8332   \n",
       "181                 2015-07-27     640        640            8332   \n",
       "...                        ...     ...        ...             ...   \n",
       "786014              2008-04-15     359        359             258   \n",
       "786072              2014-08-21     355        355            1665   \n",
       "786120              2014-11-17     175        175             321   \n",
       "786219              2014-11-17     387        387            4635   \n",
       "786301              2012-08-23     939        939            3388   \n",
       "\n",
       "       transactionType currentBalance cardPresent expirationDateKeyInMatch  \\\n",
       "39            REVERSAL         299.02        True                    False   \n",
       "101           REVERSAL         168.57       False                    False   \n",
       "133           REVERSAL        3632.59       False                    False   \n",
       "156           REVERSAL        8090.70        True                    False   \n",
       "181           REVERSAL       11909.30        True                    False   \n",
       "...                ...            ...         ...                      ...   \n",
       "786014        REVERSAL        3428.74       False                    False   \n",
       "786072        REVERSAL         132.45       False                    False   \n",
       "786120        REVERSAL         201.79        True                    False   \n",
       "786219        REVERSAL        4668.67        True                    False   \n",
       "786301        REVERSAL         139.77       False                    False   \n",
       "\n",
       "        isFraud  \n",
       "39        False  \n",
       "101       False  \n",
       "133       False  \n",
       "156       False  \n",
       "181       False  \n",
       "...         ...  \n",
       "786014    False  \n",
       "786072    False  \n",
       "786120    False  \n",
       "786219    False  \n",
       "786301    False  \n",
       "\n",
       "[18363 rows x 23 columns]"
      ]
     },
     "execution_count": 898,
     "metadata": {},
     "output_type": "execute_result"
    }
   ],
   "source": [
    "T=data[data.duplicated(subset=['accountNumber','merchantName','transactionAmount'], keep=False)]\n",
    "print(\"Total fraud transactions for reversal type is\",(T[T.transactionType=='REVERSAL'].isFraud==True).sum())\n",
    "dollar_amount_from_reversal=(T[T.transactionType=='REVERSAL']).transactionAmount.sum()\n",
    "T[T.transactionType=='REVERSAL']"
   ]
  },
  {
   "cell_type": "code",
   "execution_count": 899,
   "id": "035e93ff",
   "metadata": {},
   "outputs": [
    {
     "data": {
      "text/html": [
       "<div>\n",
       "<style scoped>\n",
       "    .dataframe tbody tr th:only-of-type {\n",
       "        vertical-align: middle;\n",
       "    }\n",
       "\n",
       "    .dataframe tbody tr th {\n",
       "        vertical-align: top;\n",
       "    }\n",
       "\n",
       "    .dataframe thead th {\n",
       "        text-align: right;\n",
       "    }\n",
       "</style>\n",
       "<table border=\"1\" class=\"dataframe\">\n",
       "  <thead>\n",
       "    <tr style=\"text-align: right;\">\n",
       "      <th></th>\n",
       "      <th>accountNumber</th>\n",
       "      <th>customerId</th>\n",
       "      <th>creditLimit</th>\n",
       "      <th>availableMoney</th>\n",
       "      <th>transactionDateTime</th>\n",
       "      <th>transactionAmount</th>\n",
       "      <th>merchantName</th>\n",
       "      <th>acqCountry</th>\n",
       "      <th>merchantCountryCode</th>\n",
       "      <th>posEntryMode</th>\n",
       "      <th>...</th>\n",
       "      <th>accountOpenDate</th>\n",
       "      <th>dateOfLastAddressChange</th>\n",
       "      <th>cardCVV</th>\n",
       "      <th>enteredCVV</th>\n",
       "      <th>cardLast4Digits</th>\n",
       "      <th>transactionType</th>\n",
       "      <th>currentBalance</th>\n",
       "      <th>cardPresent</th>\n",
       "      <th>expirationDateKeyInMatch</th>\n",
       "      <th>isFraud</th>\n",
       "    </tr>\n",
       "  </thead>\n",
       "  <tbody>\n",
       "    <tr>\n",
       "      <th>0</th>\n",
       "      <td>737265056</td>\n",
       "      <td>737265056</td>\n",
       "      <td>5000.0</td>\n",
       "      <td>5000.00</td>\n",
       "      <td>2016-08-13T14:27:32</td>\n",
       "      <td>98.55</td>\n",
       "      <td>Uber</td>\n",
       "      <td>US</td>\n",
       "      <td>US</td>\n",
       "      <td>02</td>\n",
       "      <td>...</td>\n",
       "      <td>2015-03-14</td>\n",
       "      <td>2015-03-14</td>\n",
       "      <td>414</td>\n",
       "      <td>414</td>\n",
       "      <td>1803</td>\n",
       "      <td>PURCHASE</td>\n",
       "      <td>0.00</td>\n",
       "      <td>False</td>\n",
       "      <td>False</td>\n",
       "      <td>False</td>\n",
       "    </tr>\n",
       "    <tr>\n",
       "      <th>1</th>\n",
       "      <td>737265056</td>\n",
       "      <td>737265056</td>\n",
       "      <td>5000.0</td>\n",
       "      <td>5000.00</td>\n",
       "      <td>2016-10-11T05:05:54</td>\n",
       "      <td>74.51</td>\n",
       "      <td>AMC #191138</td>\n",
       "      <td>US</td>\n",
       "      <td>US</td>\n",
       "      <td>09</td>\n",
       "      <td>...</td>\n",
       "      <td>2015-03-14</td>\n",
       "      <td>2015-03-14</td>\n",
       "      <td>486</td>\n",
       "      <td>486</td>\n",
       "      <td>767</td>\n",
       "      <td>PURCHASE</td>\n",
       "      <td>0.00</td>\n",
       "      <td>True</td>\n",
       "      <td>False</td>\n",
       "      <td>False</td>\n",
       "    </tr>\n",
       "    <tr>\n",
       "      <th>2</th>\n",
       "      <td>737265056</td>\n",
       "      <td>737265056</td>\n",
       "      <td>5000.0</td>\n",
       "      <td>5000.00</td>\n",
       "      <td>2016-11-08T09:18:39</td>\n",
       "      <td>7.47</td>\n",
       "      <td>Play Store</td>\n",
       "      <td>US</td>\n",
       "      <td>US</td>\n",
       "      <td>09</td>\n",
       "      <td>...</td>\n",
       "      <td>2015-03-14</td>\n",
       "      <td>2015-03-14</td>\n",
       "      <td>486</td>\n",
       "      <td>486</td>\n",
       "      <td>767</td>\n",
       "      <td>PURCHASE</td>\n",
       "      <td>0.00</td>\n",
       "      <td>False</td>\n",
       "      <td>False</td>\n",
       "      <td>False</td>\n",
       "    </tr>\n",
       "    <tr>\n",
       "      <th>3</th>\n",
       "      <td>737265056</td>\n",
       "      <td>737265056</td>\n",
       "      <td>5000.0</td>\n",
       "      <td>5000.00</td>\n",
       "      <td>2016-12-10T02:14:50</td>\n",
       "      <td>7.47</td>\n",
       "      <td>Play Store</td>\n",
       "      <td>US</td>\n",
       "      <td>US</td>\n",
       "      <td>09</td>\n",
       "      <td>...</td>\n",
       "      <td>2015-03-14</td>\n",
       "      <td>2015-03-14</td>\n",
       "      <td>486</td>\n",
       "      <td>486</td>\n",
       "      <td>767</td>\n",
       "      <td>PURCHASE</td>\n",
       "      <td>0.00</td>\n",
       "      <td>False</td>\n",
       "      <td>False</td>\n",
       "      <td>False</td>\n",
       "    </tr>\n",
       "    <tr>\n",
       "      <th>4</th>\n",
       "      <td>830329091</td>\n",
       "      <td>830329091</td>\n",
       "      <td>5000.0</td>\n",
       "      <td>5000.00</td>\n",
       "      <td>2016-03-24T21:04:46</td>\n",
       "      <td>71.18</td>\n",
       "      <td>Tim Hortons #947751</td>\n",
       "      <td>US</td>\n",
       "      <td>US</td>\n",
       "      <td>02</td>\n",
       "      <td>...</td>\n",
       "      <td>2015-08-06</td>\n",
       "      <td>2015-08-06</td>\n",
       "      <td>885</td>\n",
       "      <td>885</td>\n",
       "      <td>3143</td>\n",
       "      <td>PURCHASE</td>\n",
       "      <td>0.00</td>\n",
       "      <td>True</td>\n",
       "      <td>False</td>\n",
       "      <td>False</td>\n",
       "    </tr>\n",
       "    <tr>\n",
       "      <th>...</th>\n",
       "      <td>...</td>\n",
       "      <td>...</td>\n",
       "      <td>...</td>\n",
       "      <td>...</td>\n",
       "      <td>...</td>\n",
       "      <td>...</td>\n",
       "      <td>...</td>\n",
       "      <td>...</td>\n",
       "      <td>...</td>\n",
       "      <td>...</td>\n",
       "      <td>...</td>\n",
       "      <td>...</td>\n",
       "      <td>...</td>\n",
       "      <td>...</td>\n",
       "      <td>...</td>\n",
       "      <td>...</td>\n",
       "      <td>...</td>\n",
       "      <td>...</td>\n",
       "      <td>...</td>\n",
       "      <td>...</td>\n",
       "      <td>...</td>\n",
       "    </tr>\n",
       "    <tr>\n",
       "      <th>786358</th>\n",
       "      <td>732852505</td>\n",
       "      <td>732852505</td>\n",
       "      <td>50000.0</td>\n",
       "      <td>48904.96</td>\n",
       "      <td>2016-12-22T18:44:12</td>\n",
       "      <td>119.92</td>\n",
       "      <td>Lyft</td>\n",
       "      <td>US</td>\n",
       "      <td>US</td>\n",
       "      <td>90</td>\n",
       "      <td>...</td>\n",
       "      <td>2012-08-23</td>\n",
       "      <td>2012-08-23</td>\n",
       "      <td>936</td>\n",
       "      <td>936</td>\n",
       "      <td>3783</td>\n",
       "      <td>PURCHASE</td>\n",
       "      <td>1095.04</td>\n",
       "      <td>False</td>\n",
       "      <td>False</td>\n",
       "      <td>False</td>\n",
       "    </tr>\n",
       "    <tr>\n",
       "      <th>786359</th>\n",
       "      <td>732852505</td>\n",
       "      <td>732852505</td>\n",
       "      <td>50000.0</td>\n",
       "      <td>48785.04</td>\n",
       "      <td>2016-12-25T16:20:34</td>\n",
       "      <td>18.89</td>\n",
       "      <td>hulu.com</td>\n",
       "      <td>US</td>\n",
       "      <td>US</td>\n",
       "      <td>09</td>\n",
       "      <td>...</td>\n",
       "      <td>2012-08-23</td>\n",
       "      <td>2012-08-23</td>\n",
       "      <td>939</td>\n",
       "      <td>939</td>\n",
       "      <td>3388</td>\n",
       "      <td>PURCHASE</td>\n",
       "      <td>1214.96</td>\n",
       "      <td>False</td>\n",
       "      <td>False</td>\n",
       "      <td>False</td>\n",
       "    </tr>\n",
       "    <tr>\n",
       "      <th>786360</th>\n",
       "      <td>732852505</td>\n",
       "      <td>732852505</td>\n",
       "      <td>50000.0</td>\n",
       "      <td>48766.15</td>\n",
       "      <td>2016-12-27T15:46:24</td>\n",
       "      <td>49.43</td>\n",
       "      <td>Lyft</td>\n",
       "      <td>US</td>\n",
       "      <td>US</td>\n",
       "      <td>02</td>\n",
       "      <td>...</td>\n",
       "      <td>2012-08-23</td>\n",
       "      <td>2012-08-23</td>\n",
       "      <td>936</td>\n",
       "      <td>936</td>\n",
       "      <td>3783</td>\n",
       "      <td>PURCHASE</td>\n",
       "      <td>1233.85</td>\n",
       "      <td>False</td>\n",
       "      <td>False</td>\n",
       "      <td>False</td>\n",
       "    </tr>\n",
       "    <tr>\n",
       "      <th>786361</th>\n",
       "      <td>732852505</td>\n",
       "      <td>732852505</td>\n",
       "      <td>50000.0</td>\n",
       "      <td>48716.72</td>\n",
       "      <td>2016-12-29T00:30:55</td>\n",
       "      <td>49.89</td>\n",
       "      <td>walmart.com</td>\n",
       "      <td>US</td>\n",
       "      <td>US</td>\n",
       "      <td>09</td>\n",
       "      <td>...</td>\n",
       "      <td>2012-08-23</td>\n",
       "      <td>2012-08-23</td>\n",
       "      <td>939</td>\n",
       "      <td>939</td>\n",
       "      <td>3388</td>\n",
       "      <td>PURCHASE</td>\n",
       "      <td>1283.28</td>\n",
       "      <td>False</td>\n",
       "      <td>False</td>\n",
       "      <td>False</td>\n",
       "    </tr>\n",
       "    <tr>\n",
       "      <th>786362</th>\n",
       "      <td>732852505</td>\n",
       "      <td>732852505</td>\n",
       "      <td>50000.0</td>\n",
       "      <td>48666.83</td>\n",
       "      <td>2016-12-30T20:10:29</td>\n",
       "      <td>72.18</td>\n",
       "      <td>Uber</td>\n",
       "      <td>US</td>\n",
       "      <td>US</td>\n",
       "      <td>05</td>\n",
       "      <td>...</td>\n",
       "      <td>2012-08-23</td>\n",
       "      <td>2012-08-23</td>\n",
       "      <td>939</td>\n",
       "      <td>939</td>\n",
       "      <td>3388</td>\n",
       "      <td>PURCHASE</td>\n",
       "      <td>1333.17</td>\n",
       "      <td>False</td>\n",
       "      <td>False</td>\n",
       "      <td>False</td>\n",
       "    </tr>\n",
       "  </tbody>\n",
       "</table>\n",
       "<p>768000 rows × 23 columns</p>\n",
       "</div>"
      ],
      "text/plain": [
       "       accountNumber customerId  creditLimit  availableMoney  \\\n",
       "0          737265056  737265056       5000.0         5000.00   \n",
       "1          737265056  737265056       5000.0         5000.00   \n",
       "2          737265056  737265056       5000.0         5000.00   \n",
       "3          737265056  737265056       5000.0         5000.00   \n",
       "4          830329091  830329091       5000.0         5000.00   \n",
       "...              ...        ...          ...             ...   \n",
       "786358     732852505  732852505      50000.0        48904.96   \n",
       "786359     732852505  732852505      50000.0        48785.04   \n",
       "786360     732852505  732852505      50000.0        48766.15   \n",
       "786361     732852505  732852505      50000.0        48716.72   \n",
       "786362     732852505  732852505      50000.0        48666.83   \n",
       "\n",
       "        transactionDateTime  transactionAmount         merchantName  \\\n",
       "0       2016-08-13T14:27:32              98.55                 Uber   \n",
       "1       2016-10-11T05:05:54              74.51          AMC #191138   \n",
       "2       2016-11-08T09:18:39               7.47           Play Store   \n",
       "3       2016-12-10T02:14:50               7.47           Play Store   \n",
       "4       2016-03-24T21:04:46              71.18  Tim Hortons #947751   \n",
       "...                     ...                ...                  ...   \n",
       "786358  2016-12-22T18:44:12             119.92                 Lyft   \n",
       "786359  2016-12-25T16:20:34              18.89             hulu.com   \n",
       "786360  2016-12-27T15:46:24              49.43                 Lyft   \n",
       "786361  2016-12-29T00:30:55              49.89          walmart.com   \n",
       "786362  2016-12-30T20:10:29              72.18                 Uber   \n",
       "\n",
       "       acqCountry merchantCountryCode posEntryMode  ... accountOpenDate  \\\n",
       "0              US                  US           02  ...      2015-03-14   \n",
       "1              US                  US           09  ...      2015-03-14   \n",
       "2              US                  US           09  ...      2015-03-14   \n",
       "3              US                  US           09  ...      2015-03-14   \n",
       "4              US                  US           02  ...      2015-08-06   \n",
       "...           ...                 ...          ...  ...             ...   \n",
       "786358         US                  US           90  ...      2012-08-23   \n",
       "786359         US                  US           09  ...      2012-08-23   \n",
       "786360         US                  US           02  ...      2012-08-23   \n",
       "786361         US                  US           09  ...      2012-08-23   \n",
       "786362         US                  US           05  ...      2012-08-23   \n",
       "\n",
       "       dateOfLastAddressChange cardCVV enteredCVV cardLast4Digits  \\\n",
       "0                   2015-03-14     414        414            1803   \n",
       "1                   2015-03-14     486        486             767   \n",
       "2                   2015-03-14     486        486             767   \n",
       "3                   2015-03-14     486        486             767   \n",
       "4                   2015-08-06     885        885            3143   \n",
       "...                        ...     ...        ...             ...   \n",
       "786358              2012-08-23     936        936            3783   \n",
       "786359              2012-08-23     939        939            3388   \n",
       "786360              2012-08-23     936        936            3783   \n",
       "786361              2012-08-23     939        939            3388   \n",
       "786362              2012-08-23     939        939            3388   \n",
       "\n",
       "       transactionType currentBalance cardPresent expirationDateKeyInMatch  \\\n",
       "0             PURCHASE           0.00       False                    False   \n",
       "1             PURCHASE           0.00        True                    False   \n",
       "2             PURCHASE           0.00       False                    False   \n",
       "3             PURCHASE           0.00       False                    False   \n",
       "4             PURCHASE           0.00        True                    False   \n",
       "...                ...            ...         ...                      ...   \n",
       "786358        PURCHASE        1095.04       False                    False   \n",
       "786359        PURCHASE        1214.96       False                    False   \n",
       "786360        PURCHASE        1233.85       False                    False   \n",
       "786361        PURCHASE        1283.28       False                    False   \n",
       "786362        PURCHASE        1333.17       False                    False   \n",
       "\n",
       "        isFraud  \n",
       "0         False  \n",
       "1         False  \n",
       "2         False  \n",
       "3         False  \n",
       "4         False  \n",
       "...         ...  \n",
       "786358    False  \n",
       "786359    False  \n",
       "786360    False  \n",
       "786361    False  \n",
       "786362    False  \n",
       "\n",
       "[768000 rows x 23 columns]"
      ]
     },
     "execution_count": 899,
     "metadata": {},
     "output_type": "execute_result"
    }
   ],
   "source": [
    "data.drop((T[T.transactionType=='REVERSAL']).index,inplace=True)\n",
    "df.drop((T[T.transactionType=='REVERSAL']).index,inplace=True)\n",
    "df"
   ]
  },
  {
   "cell_type": "markdown",
   "id": "22bdd017",
   "metadata": {},
   "source": [
    "##### $ amount from reversal"
   ]
  },
  {
   "cell_type": "code",
   "execution_count": 903,
   "id": "f59d8ffd",
   "metadata": {},
   "outputs": [
    {
     "data": {
      "text/plain": [
       "2670166.29"
      ]
     },
     "execution_count": 903,
     "metadata": {},
     "output_type": "execute_result"
    }
   ],
   "source": [
    "dollar_amount_from_reversal"
   ]
  },
  {
   "cell_type": "markdown",
   "id": "7d46f996",
   "metadata": {},
   "source": [
    "##### "
   ]
  },
  {
   "cell_type": "markdown",
   "id": "e27da0bc",
   "metadata": {},
   "source": [
    "##### Multi Swipe"
   ]
  },
  {
   "cell_type": "markdown",
   "id": "7021c998",
   "metadata": {},
   "source": [
    "I am assuming \"Short Span of time\" to be 24 hours. \n",
    "So, if a vendor charges the same amount from a particular customer/account number within 24 hours, that is a multi swipe duplicated transaction."
   ]
  },
  {
   "cell_type": "code",
   "execution_count": 900,
   "id": "d898aa40",
   "metadata": {},
   "outputs": [
    {
     "data": {
      "text/html": [
       "<div>\n",
       "<style scoped>\n",
       "    .dataframe tbody tr th:only-of-type {\n",
       "        vertical-align: middle;\n",
       "    }\n",
       "\n",
       "    .dataframe tbody tr th {\n",
       "        vertical-align: top;\n",
       "    }\n",
       "\n",
       "    .dataframe thead th {\n",
       "        text-align: right;\n",
       "    }\n",
       "</style>\n",
       "<table border=\"1\" class=\"dataframe\">\n",
       "  <thead>\n",
       "    <tr style=\"text-align: right;\">\n",
       "      <th></th>\n",
       "      <th>accountNumber</th>\n",
       "      <th>transactionDateTime</th>\n",
       "      <th>transactionAmount</th>\n",
       "      <th>merchantName</th>\n",
       "      <th>is_Duplicate</th>\n",
       "      <th>isFraud</th>\n",
       "    </tr>\n",
       "  </thead>\n",
       "  <tbody>\n",
       "    <tr>\n",
       "      <th>198813</th>\n",
       "      <td>132629755</td>\n",
       "      <td>2016-02-14 00:24:03</td>\n",
       "      <td>1079.93</td>\n",
       "      <td>Uber</td>\n",
       "      <td>True</td>\n",
       "      <td>False</td>\n",
       "    </tr>\n",
       "    <tr>\n",
       "      <th>100285</th>\n",
       "      <td>740574175</td>\n",
       "      <td>2016-12-10 14:27:31</td>\n",
       "      <td>1113.03</td>\n",
       "      <td>Tim Hortons #989270</td>\n",
       "      <td>True</td>\n",
       "      <td>False</td>\n",
       "    </tr>\n",
       "    <tr>\n",
       "      <th>100284</th>\n",
       "      <td>740574175</td>\n",
       "      <td>2016-12-10 14:25:05</td>\n",
       "      <td>1113.03</td>\n",
       "      <td>Tim Hortons #989270</td>\n",
       "      <td>False</td>\n",
       "      <td>False</td>\n",
       "    </tr>\n",
       "    <tr>\n",
       "      <th>662200</th>\n",
       "      <td>721928928</td>\n",
       "      <td>2016-09-07 23:49:05</td>\n",
       "      <td>1114.32</td>\n",
       "      <td>alibaba.com</td>\n",
       "      <td>True</td>\n",
       "      <td>False</td>\n",
       "    </tr>\n",
       "    <tr>\n",
       "      <th>662199</th>\n",
       "      <td>721928928</td>\n",
       "      <td>2016-09-07 23:46:24</td>\n",
       "      <td>1114.32</td>\n",
       "      <td>alibaba.com</td>\n",
       "      <td>False</td>\n",
       "      <td>False</td>\n",
       "    </tr>\n",
       "    <tr>\n",
       "      <th>392852</th>\n",
       "      <td>569040573</td>\n",
       "      <td>2016-05-15 13:05:37</td>\n",
       "      <td>1120.04</td>\n",
       "      <td>oldnavy.com</td>\n",
       "      <td>False</td>\n",
       "      <td>False</td>\n",
       "    </tr>\n",
       "    <tr>\n",
       "      <th>392853</th>\n",
       "      <td>569040573</td>\n",
       "      <td>2016-05-15 13:07:35</td>\n",
       "      <td>1120.04</td>\n",
       "      <td>oldnavy.com</td>\n",
       "      <td>True</td>\n",
       "      <td>False</td>\n",
       "    </tr>\n",
       "    <tr>\n",
       "      <th>568810</th>\n",
       "      <td>448544073</td>\n",
       "      <td>2016-01-23 09:46:34</td>\n",
       "      <td>1394.19</td>\n",
       "      <td>Subway #19692</td>\n",
       "      <td>True</td>\n",
       "      <td>False</td>\n",
       "    </tr>\n",
       "    <tr>\n",
       "      <th>568811</th>\n",
       "      <td>448544073</td>\n",
       "      <td>2016-01-23 09:46:44</td>\n",
       "      <td>1394.19</td>\n",
       "      <td>Subway #19692</td>\n",
       "      <td>True</td>\n",
       "      <td>False</td>\n",
       "    </tr>\n",
       "    <tr>\n",
       "      <th>568809</th>\n",
       "      <td>448544073</td>\n",
       "      <td>2016-01-23 09:45:40</td>\n",
       "      <td>1394.19</td>\n",
       "      <td>Subway #19692</td>\n",
       "      <td>False</td>\n",
       "      <td>False</td>\n",
       "    </tr>\n",
       "  </tbody>\n",
       "</table>\n",
       "</div>"
      ],
      "text/plain": [
       "       accountNumber transactionDateTime  transactionAmount  \\\n",
       "198813     132629755 2016-02-14 00:24:03            1079.93   \n",
       "100285     740574175 2016-12-10 14:27:31            1113.03   \n",
       "100284     740574175 2016-12-10 14:25:05            1113.03   \n",
       "662200     721928928 2016-09-07 23:49:05            1114.32   \n",
       "662199     721928928 2016-09-07 23:46:24            1114.32   \n",
       "392852     569040573 2016-05-15 13:05:37            1120.04   \n",
       "392853     569040573 2016-05-15 13:07:35            1120.04   \n",
       "568810     448544073 2016-01-23 09:46:34            1394.19   \n",
       "568811     448544073 2016-01-23 09:46:44            1394.19   \n",
       "568809     448544073 2016-01-23 09:45:40            1394.19   \n",
       "\n",
       "               merchantName  is_Duplicate  isFraud  \n",
       "198813                 Uber          True    False  \n",
       "100285  Tim Hortons #989270          True    False  \n",
       "100284  Tim Hortons #989270         False    False  \n",
       "662200          alibaba.com          True    False  \n",
       "662199          alibaba.com         False    False  \n",
       "392852          oldnavy.com         False    False  \n",
       "392853          oldnavy.com          True    False  \n",
       "568810        Subway #19692          True    False  \n",
       "568811        Subway #19692          True    False  \n",
       "568809        Subway #19692         False    False  "
      ]
     },
     "execution_count": 900,
     "metadata": {},
     "output_type": "execute_result"
    }
   ],
   "source": [
    "df['transactionDateTime'] =  pd.to_datetime(df['transactionDateTime'], format='%Y-%m-%dT%H:%M:%S') #changing to datetime type\n",
    "temp=df[df.duplicated(subset=['accountNumber','transactionAmount','merchantName'], keep=False)]\n",
    "temp=temp.sort_values(['transactionAmount'])\n",
    "temp['is_Duplicate'] = (temp.sort_values(['transactionDateTime'])\n",
    "                       .groupby(['accountNumber', 'transactionAmount'], sort=False)['transactionDateTime']\n",
    "                       .diff()\n",
    "                       .dt.total_seconds()\n",
    "                       .lt(60*60*24))\n",
    "temp[['accountNumber','transactionDateTime','transactionAmount','merchantName','is_Duplicate','isFraud']].tail(10)"
   ]
  },
  {
   "cell_type": "code",
   "execution_count": 901,
   "id": "f65cfa5d",
   "metadata": {},
   "outputs": [
    {
     "name": "stdout",
     "output_type": "stream",
     "text": [
      "no. of duplicates  9488\n"
     ]
    }
   ],
   "source": [
    "print('no. of duplicates ',temp.is_Duplicate.sum())\n",
    "data.drop(temp[temp.is_Duplicate==True].index,inplace=True)"
   ]
  },
  {
   "cell_type": "markdown",
   "id": "bcf5f5ee",
   "metadata": {},
   "source": [
    "##### $ amount towards multi swipe"
   ]
  },
  {
   "cell_type": "code",
   "execution_count": 902,
   "id": "9869ea3a",
   "metadata": {},
   "outputs": [
    {
     "data": {
      "text/plain": [
       "1106774.46"
      ]
     },
     "execution_count": 902,
     "metadata": {},
     "output_type": "execute_result"
    }
   ],
   "source": [
    "dollar_amount_from_multi_swipe=temp[temp.is_Duplicate==True].transactionAmount.sum()\n",
    "dollar_amount_from_multi_swipe"
   ]
  },
  {
   "cell_type": "markdown",
   "id": "47a8095c",
   "metadata": {},
   "source": [
    "##### "
   ]
  },
  {
   "cell_type": "markdown",
   "id": "fa7d0ea1",
   "metadata": {},
   "source": [
    "##### Total \\\\$ amount towards Duplicated transactions"
   ]
  },
  {
   "cell_type": "code",
   "execution_count": 904,
   "id": "b6411233",
   "metadata": {},
   "outputs": [
    {
     "data": {
      "text/plain": [
       "3776940.75"
      ]
     },
     "execution_count": 904,
     "metadata": {},
     "output_type": "execute_result"
    }
   ],
   "source": [
    "dollar_amount_from_reversal+dollar_amount_from_multi_swipe"
   ]
  },
  {
   "cell_type": "markdown",
   "id": "0e878cbd",
   "metadata": {},
   "source": [
    "##### "
   ]
  },
  {
   "cell_type": "code",
   "execution_count": 905,
   "id": "e84530ad",
   "metadata": {},
   "outputs": [
    {
     "data": {
      "text/plain": [
       "False    746543\n",
       "True      11969\n",
       "Name: isFraud, dtype: int64"
      ]
     },
     "execution_count": 905,
     "metadata": {},
     "output_type": "execute_result"
    },
    {
     "data": {
      "image/png": "[encoded data removed]",
      "text/plain": [
       "<Figure size 432x288 with 1 Axes>"
      ]
     },
     "metadata": {
      "needs_background": "light"
     },
     "output_type": "display_data"
    }
   ],
   "source": [
    "data.isFraud.value_counts().plot(kind='bar')\n",
    "plt.title(\"Transaction Class Distribution\")\n",
    "data.isFraud.value_counts()"
   ]
  },
  {
   "cell_type": "markdown",
   "id": "1a8a08ef",
   "metadata": {},
   "source": [
    "This is a highly imbalanced dataset problem where 'Fraud' is the minority class and 'Not Fraud' is the majority class.\n",
    "So at a later point, I will test some techniques to handle imbalanced data like over-sampling, under-sampling, Smote etc."
   ]
  },
  {
   "cell_type": "markdown",
   "id": "af305236",
   "metadata": {},
   "source": [
    "##### "
   ]
  },
  {
   "cell_type": "markdown",
   "id": "dcc24d5b",
   "metadata": {},
   "source": [
    "##### Stratified Test Train split (80 : 20) "
   ]
  },
  {
   "cell_type": "code",
   "execution_count": 906,
   "id": "5b81fb90",
   "metadata": {},
   "outputs": [],
   "source": [
    "from sklearn.model_selection import train_test_split\n",
    "train,test=train_test_split(data,train_size=0.8,stratify=data['isFraud'],random_state=42)"
   ]
  },
  {
   "cell_type": "markdown",
   "id": "629c5cc2",
   "metadata": {},
   "source": [
    "Stratified test train split ensures that the ratio of minority and majority classes is retained."
   ]
  },
  {
   "cell_type": "code",
   "execution_count": 907,
   "id": "c70ee406",
   "metadata": {},
   "outputs": [
    {
     "data": {
      "text/plain": [
       "Index(['accountNumber', 'customerId', 'creditLimit', 'availableMoney',\n",
       "       'transactionDateTime', 'transactionAmount', 'merchantName',\n",
       "       'acqCountry', 'merchantCountryCode', 'posEntryMode', 'posConditionCode',\n",
       "       'merchantCategoryCode', 'currentExpDate', 'accountOpenDate',\n",
       "       'dateOfLastAddressChange', 'cardCVV', 'enteredCVV', 'cardLast4Digits',\n",
       "       'transactionType', 'currentBalance', 'cardPresent',\n",
       "       'expirationDateKeyInMatch', 'isFraud'],\n",
       "      dtype='object')"
      ]
     },
     "execution_count": 907,
     "metadata": {},
     "output_type": "execute_result"
    }
   ],
   "source": [
    "train.columns"
   ]
  },
  {
   "cell_type": "markdown",
   "id": "61774209",
   "metadata": {},
   "source": [
    "##### "
   ]
  },
  {
   "cell_type": "markdown",
   "id": "87b54547",
   "metadata": {},
   "source": [
    "It is essential to prevent data leakage. So, whatever features I engineer, I will do that using the train data and use the same data to map it to test set without using or manipulating the test data."
   ]
  },
  {
   "cell_type": "markdown",
   "id": "f47a9492",
   "metadata": {},
   "source": [
    "###### Checking CVV and creating a new feature \"CVV_check\" : True is entered cvv is equal to actual cvv. False otherwise"
   ]
  },
  {
   "cell_type": "code",
   "execution_count": 908,
   "id": "0acefeb4",
   "metadata": {},
   "outputs": [],
   "source": [
    "train['CVV_check']=train.cardCVV==train.enteredCVV\n",
    "test['CVV_check']=test.cardCVV==test.enteredCVV"
   ]
  },
  {
   "cell_type": "markdown",
   "id": "38bac6fc",
   "metadata": {},
   "source": [
    "##### "
   ]
  },
  {
   "cell_type": "code",
   "execution_count": 911,
   "id": "a3d707d3",
   "metadata": {},
   "outputs": [
    {
     "data": {
      "text/html": [
       "<div>\n",
       "<style scoped>\n",
       "    .dataframe tbody tr th:only-of-type {\n",
       "        vertical-align: middle;\n",
       "    }\n",
       "\n",
       "    .dataframe tbody tr th {\n",
       "        vertical-align: top;\n",
       "    }\n",
       "\n",
       "    .dataframe thead th {\n",
       "        text-align: right;\n",
       "    }\n",
       "</style>\n",
       "<table border=\"1\" class=\"dataframe\">\n",
       "  <thead>\n",
       "    <tr style=\"text-align: right;\">\n",
       "      <th></th>\n",
       "      <th>accountNumber</th>\n",
       "      <th>customerId</th>\n",
       "      <th>creditLimit</th>\n",
       "      <th>availableMoney</th>\n",
       "      <th>transactionDateTime</th>\n",
       "      <th>transactionAmount</th>\n",
       "      <th>merchantName</th>\n",
       "      <th>acqCountry</th>\n",
       "      <th>merchantCountryCode</th>\n",
       "      <th>posEntryMode</th>\n",
       "      <th>...</th>\n",
       "      <th>enteredCVV</th>\n",
       "      <th>cardLast4Digits</th>\n",
       "      <th>transactionType</th>\n",
       "      <th>currentBalance</th>\n",
       "      <th>cardPresent</th>\n",
       "      <th>expirationDateKeyInMatch</th>\n",
       "      <th>isFraud</th>\n",
       "      <th>CVV_check</th>\n",
       "      <th>contribution_%_by_account_number</th>\n",
       "      <th>contribution_%_by_cardLast4Digits</th>\n",
       "    </tr>\n",
       "  </thead>\n",
       "  <tbody>\n",
       "    <tr>\n",
       "      <th>580791</th>\n",
       "      <td>882815134</td>\n",
       "      <td>882815134</td>\n",
       "      <td>50000.0</td>\n",
       "      <td>41062.73</td>\n",
       "      <td>2016-02-08T17:31:33</td>\n",
       "      <td>54.87</td>\n",
       "      <td>Hilton Hotels #720012</td>\n",
       "      <td>US</td>\n",
       "      <td>US</td>\n",
       "      <td>05</td>\n",
       "      <td>...</td>\n",
       "      <td>959</td>\n",
       "      <td>8502</td>\n",
       "      <td>PURCHASE</td>\n",
       "      <td>8937.27</td>\n",
       "      <td>False</td>\n",
       "      <td>False</td>\n",
       "      <td>False</td>\n",
       "      <td>True</td>\n",
       "      <td>0.741514</td>\n",
       "      <td>0.417755</td>\n",
       "    </tr>\n",
       "    <tr>\n",
       "      <th>266003</th>\n",
       "      <td>380680241</td>\n",
       "      <td>380680241</td>\n",
       "      <td>5000.0</td>\n",
       "      <td>2970.45</td>\n",
       "      <td>2016-10-14T21:34:28</td>\n",
       "      <td>14.79</td>\n",
       "      <td>Fresh eCards</td>\n",
       "      <td>US</td>\n",
       "      <td>US</td>\n",
       "      <td>80</td>\n",
       "      <td>...</td>\n",
       "      <td>869</td>\n",
       "      <td>593</td>\n",
       "      <td>PURCHASE</td>\n",
       "      <td>2029.55</td>\n",
       "      <td>False</td>\n",
       "      <td>False</td>\n",
       "      <td>False</td>\n",
       "      <td>True</td>\n",
       "      <td>6.172324</td>\n",
       "      <td>6.172324</td>\n",
       "    </tr>\n",
       "    <tr>\n",
       "      <th>236122</th>\n",
       "      <td>735497372</td>\n",
       "      <td>735497372</td>\n",
       "      <td>15000.0</td>\n",
       "      <td>8797.08</td>\n",
       "      <td>2016-02-16T17:02:16</td>\n",
       "      <td>91.87</td>\n",
       "      <td>EZ Putt Putt #240241</td>\n",
       "      <td>US</td>\n",
       "      <td>US</td>\n",
       "      <td>09</td>\n",
       "      <td>...</td>\n",
       "      <td>440</td>\n",
       "      <td>9096</td>\n",
       "      <td>PURCHASE</td>\n",
       "      <td>6202.92</td>\n",
       "      <td>True</td>\n",
       "      <td>False</td>\n",
       "      <td>False</td>\n",
       "      <td>True</td>\n",
       "      <td>-1.000000</td>\n",
       "      <td>-1.000000</td>\n",
       "    </tr>\n",
       "    <tr>\n",
       "      <th>108768</th>\n",
       "      <td>611548179</td>\n",
       "      <td>611548179</td>\n",
       "      <td>5000.0</td>\n",
       "      <td>2095.10</td>\n",
       "      <td>2016-02-10T05:50:15</td>\n",
       "      <td>31.11</td>\n",
       "      <td>oldnavy.com</td>\n",
       "      <td>US</td>\n",
       "      <td>US</td>\n",
       "      <td>05</td>\n",
       "      <td>...</td>\n",
       "      <td>699</td>\n",
       "      <td>7984</td>\n",
       "      <td>PURCHASE</td>\n",
       "      <td>2904.90</td>\n",
       "      <td>False</td>\n",
       "      <td>False</td>\n",
       "      <td>False</td>\n",
       "      <td>True</td>\n",
       "      <td>0.052219</td>\n",
       "      <td>0.062663</td>\n",
       "    </tr>\n",
       "    <tr>\n",
       "      <th>32118</th>\n",
       "      <td>492335288</td>\n",
       "      <td>492335288</td>\n",
       "      <td>2500.0</td>\n",
       "      <td>2365.59</td>\n",
       "      <td>2016-10-30T06:56:11</td>\n",
       "      <td>164.43</td>\n",
       "      <td>cheapfast.com</td>\n",
       "      <td>US</td>\n",
       "      <td>US</td>\n",
       "      <td>05</td>\n",
       "      <td>...</td>\n",
       "      <td>894</td>\n",
       "      <td>9363</td>\n",
       "      <td>PURCHASE</td>\n",
       "      <td>134.41</td>\n",
       "      <td>False</td>\n",
       "      <td>False</td>\n",
       "      <td>False</td>\n",
       "      <td>True</td>\n",
       "      <td>0.020888</td>\n",
       "      <td>0.020888</td>\n",
       "    </tr>\n",
       "  </tbody>\n",
       "</table>\n",
       "<p>5 rows × 26 columns</p>\n",
       "</div>"
      ],
      "text/plain": [
       "       accountNumber customerId  creditLimit  availableMoney  \\\n",
       "580791     882815134  882815134      50000.0        41062.73   \n",
       "266003     380680241  380680241       5000.0         2970.45   \n",
       "236122     735497372  735497372      15000.0         8797.08   \n",
       "108768     611548179  611548179       5000.0         2095.10   \n",
       "32118      492335288  492335288       2500.0         2365.59   \n",
       "\n",
       "        transactionDateTime  transactionAmount           merchantName  \\\n",
       "580791  2016-02-08T17:31:33              54.87  Hilton Hotels #720012   \n",
       "266003  2016-10-14T21:34:28              14.79           Fresh eCards   \n",
       "236122  2016-02-16T17:02:16              91.87   EZ Putt Putt #240241   \n",
       "108768  2016-02-10T05:50:15              31.11            oldnavy.com   \n",
       "32118   2016-10-30T06:56:11             164.43          cheapfast.com   \n",
       "\n",
       "       acqCountry merchantCountryCode posEntryMode  ... enteredCVV  \\\n",
       "580791         US                  US           05  ...        959   \n",
       "266003         US                  US           80  ...        869   \n",
       "236122         US                  US           09  ...        440   \n",
       "108768         US                  US           05  ...        699   \n",
       "32118          US                  US           05  ...        894   \n",
       "\n",
       "       cardLast4Digits transactionType currentBalance cardPresent  \\\n",
       "580791            8502        PURCHASE        8937.27       False   \n",
       "266003             593        PURCHASE        2029.55       False   \n",
       "236122            9096        PURCHASE        6202.92        True   \n",
       "108768            7984        PURCHASE        2904.90       False   \n",
       "32118             9363        PURCHASE         134.41       False   \n",
       "\n",
       "       expirationDateKeyInMatch isFraud CVV_check  \\\n",
       "580791                    False   False      True   \n",
       "266003                    False   False      True   \n",
       "236122                    False   False      True   \n",
       "108768                    False   False      True   \n",
       "32118                     False   False      True   \n",
       "\n",
       "       contribution_%_by_account_number  contribution_%_by_cardLast4Digits  \n",
       "580791                         0.741514                           0.417755  \n",
       "266003                         6.172324                           6.172324  \n",
       "236122                        -1.000000                          -1.000000  \n",
       "108768                         0.052219                           0.062663  \n",
       "32118                          0.020888                           0.020888  \n",
       "\n",
       "[5 rows x 26 columns]"
      ]
     },
     "execution_count": 911,
     "metadata": {},
     "output_type": "execute_result"
    }
   ],
   "source": [
    "train.head()"
   ]
  },
  {
   "cell_type": "code",
   "execution_count": 912,
   "id": "6c343ac2",
   "metadata": {},
   "outputs": [],
   "source": [
    "# total % of fraud transactions per account number\n",
    "\n",
    "#dict(train[train.isFraud==True].accountNumber.value_counts()*100/train.isFraud.sum())\n",
    "\n",
    "train['contribution_%_by_account_number']=train['accountNumber'].map(dict(train[train.isFraud==True].accountNumber.value_counts()*100/train.isFraud.sum()))\n",
    "test['contribution_%_by_account_number']=test['accountNumber'].map(dict(train[train.isFraud==True].accountNumber.value_counts()*100/train.isFraud.sum()))\n",
    "\n",
    "train['contribution_%_by_account_number']=train['contribution_%_by_account_number'].fillna(-1)\n",
    "test['contribution_%_by_account_number']=test['contribution_%_by_account_number'].fillna(-1)\n",
    "\n",
    "#if it is na, it means no fraud for that particular account number"
   ]
  },
  {
   "cell_type": "markdown",
   "id": "5b005dc4",
   "metadata": {},
   "source": [
    "This feature shows the percentage contribution towards the fraudulent data by each account number or customer id.\n",
    "correlation of account number and customer id is 1 which means both represent the same account and is unique for all accounts."
   ]
  },
  {
   "cell_type": "markdown",
   "id": "243335e9",
   "metadata": {},
   "source": [
    "##### "
   ]
  },
  {
   "cell_type": "code",
   "execution_count": 913,
   "id": "02726544",
   "metadata": {},
   "outputs": [],
   "source": [
    "# total % of fraud transactions groupby Card last 4 digit\n",
    "\n",
    "train['contribution_%_by_cardLast4Digits']=train['cardLast4Digits'].map(dict(train[train.isFraud==True].cardLast4Digits.value_counts()*100/train.isFraud.sum()))\n",
    "test['contribution_%_by_cardLast4Digits']=test['cardLast4Digits'].map(dict(train[train.isFraud==True].cardLast4Digits.value_counts()*100/train.isFraud.sum()))\n",
    "\n",
    "train['contribution_%_by_cardLast4Digits']=train['contribution_%_by_cardLast4Digits'].fillna(-1)\n",
    "test['contribution_%_by_cardLast4Digits']=test['contribution_%_by_cardLast4Digits'].fillna(-1)\n",
    "\n",
    "#if it is na, it means no fraud for that particular card number\n"
   ]
  },
  {
   "cell_type": "markdown",
   "id": "bb6e30c3",
   "metadata": {},
   "source": [
    "This feature shows the contribution for a group of each card by last 4 digits."
   ]
  },
  {
   "cell_type": "markdown",
   "id": "6fecc32d",
   "metadata": {},
   "source": [
    "##### "
   ]
  },
  {
   "cell_type": "code",
   "execution_count": 914,
   "id": "0ba43e52",
   "metadata": {},
   "outputs": [],
   "source": [
    "# merchant category code\n",
    "mapping_percentage=dict((train[train.isFraud==True].groupby('merchantCategoryCode').count()['isFraud'])*100/train[train.isFraud==True]['merchantCategoryCode'].value_counts().sum())\n",
    "train['contribution_%_by_merchantCategoryCode']=train['merchantCategoryCode'].map(mapping_percentage)\n",
    "test['contribution_%_by_merchantCategoryCode']=test['merchantCategoryCode'].map(mapping_percentage)\n",
    "train['contribution_%_by_merchantCategoryCode']=train['contribution_%_by_merchantCategoryCode'].fillna(-1)\n",
    "test['contribution_%_by_merchantCategoryCode']=test['contribution_%_by_merchantCategoryCode'].fillna(-1)"
   ]
  },
  {
   "cell_type": "markdown",
   "id": "ed357772",
   "metadata": {},
   "source": [
    "This feature shows the percentage contribution towards the fraudulent data by merchant category."
   ]
  },
  {
   "cell_type": "markdown",
   "id": "d0dd4593",
   "metadata": {},
   "source": [
    "##### "
   ]
  },
  {
   "cell_type": "code",
   "execution_count": 915,
   "id": "04152835",
   "metadata": {},
   "outputs": [],
   "source": [
    "# total % of fraud transactions groupby merchantName\n",
    "\n",
    "train['contribution_%_by_merchantName']=train['merchantName'].map(dict(train[train.isFraud==True].merchantName.value_counts()*100/train.isFraud.sum()))\n",
    "test['contribution_%_by_merchantName']=test['merchantName'].map(dict(train[train.isFraud==True].merchantName.value_counts()*100/train.isFraud.sum()))\n",
    "\n",
    "train['contribution_%_by_merchantName']=train['contribution_%_by_merchantName'].fillna(-1)\n",
    "test['contribution_%_by_merchantName']=test['contribution_%_by_merchantName'].fillna(-1)\n",
    "\n",
    "#if it is na, it means no fraud for that particular merchantName\n"
   ]
  },
  {
   "cell_type": "markdown",
   "id": "50fff3ec",
   "metadata": {},
   "source": [
    "This feature shows the percentage contribution of each merchant towards fraudulent transactions."
   ]
  },
  {
   "cell_type": "markdown",
   "id": "5fd52482",
   "metadata": {},
   "source": [
    "##### "
   ]
  },
  {
   "cell_type": "code",
   "execution_count": 916,
   "id": "02c292bf",
   "metadata": {},
   "outputs": [
    {
     "data": {
      "text/html": [
       "<div>\n",
       "<style scoped>\n",
       "    .dataframe tbody tr th:only-of-type {\n",
       "        vertical-align: middle;\n",
       "    }\n",
       "\n",
       "    .dataframe tbody tr th {\n",
       "        vertical-align: top;\n",
       "    }\n",
       "\n",
       "    .dataframe thead th {\n",
       "        text-align: right;\n",
       "    }\n",
       "</style>\n",
       "<table border=\"1\" class=\"dataframe\">\n",
       "  <thead>\n",
       "    <tr style=\"text-align: right;\">\n",
       "      <th></th>\n",
       "      <th>accountNumber</th>\n",
       "      <th>customerId</th>\n",
       "      <th>creditLimit</th>\n",
       "      <th>availableMoney</th>\n",
       "      <th>transactionDateTime</th>\n",
       "      <th>transactionAmount</th>\n",
       "      <th>merchantName</th>\n",
       "      <th>acqCountry</th>\n",
       "      <th>merchantCountryCode</th>\n",
       "      <th>posEntryMode</th>\n",
       "      <th>...</th>\n",
       "      <th>transactionType</th>\n",
       "      <th>currentBalance</th>\n",
       "      <th>cardPresent</th>\n",
       "      <th>expirationDateKeyInMatch</th>\n",
       "      <th>isFraud</th>\n",
       "      <th>CVV_check</th>\n",
       "      <th>contribution_%_by_account_number</th>\n",
       "      <th>contribution_%_by_cardLast4Digits</th>\n",
       "      <th>contribution_%_by_merchantCategoryCode</th>\n",
       "      <th>contribution_%_by_merchantName</th>\n",
       "    </tr>\n",
       "  </thead>\n",
       "  <tbody>\n",
       "    <tr>\n",
       "      <th>580791</th>\n",
       "      <td>882815134</td>\n",
       "      <td>882815134</td>\n",
       "      <td>50000.0</td>\n",
       "      <td>41062.73</td>\n",
       "      <td>2016-02-08T17:31:33</td>\n",
       "      <td>54.87</td>\n",
       "      <td>Hilton Hotels #720012</td>\n",
       "      <td>US</td>\n",
       "      <td>US</td>\n",
       "      <td>05</td>\n",
       "      <td>...</td>\n",
       "      <td>PURCHASE</td>\n",
       "      <td>8937.27</td>\n",
       "      <td>False</td>\n",
       "      <td>False</td>\n",
       "      <td>False</td>\n",
       "      <td>True</td>\n",
       "      <td>0.741514</td>\n",
       "      <td>0.417755</td>\n",
       "      <td>2.005222</td>\n",
       "      <td>-1.000000</td>\n",
       "    </tr>\n",
       "    <tr>\n",
       "      <th>266003</th>\n",
       "      <td>380680241</td>\n",
       "      <td>380680241</td>\n",
       "      <td>5000.0</td>\n",
       "      <td>2970.45</td>\n",
       "      <td>2016-10-14T21:34:28</td>\n",
       "      <td>14.79</td>\n",
       "      <td>Fresh eCards</td>\n",
       "      <td>US</td>\n",
       "      <td>US</td>\n",
       "      <td>80</td>\n",
       "      <td>...</td>\n",
       "      <td>PURCHASE</td>\n",
       "      <td>2029.55</td>\n",
       "      <td>False</td>\n",
       "      <td>False</td>\n",
       "      <td>False</td>\n",
       "      <td>True</td>\n",
       "      <td>6.172324</td>\n",
       "      <td>6.172324</td>\n",
       "      <td>12.731070</td>\n",
       "      <td>1.744125</td>\n",
       "    </tr>\n",
       "    <tr>\n",
       "      <th>236122</th>\n",
       "      <td>735497372</td>\n",
       "      <td>735497372</td>\n",
       "      <td>15000.0</td>\n",
       "      <td>8797.08</td>\n",
       "      <td>2016-02-16T17:02:16</td>\n",
       "      <td>91.87</td>\n",
       "      <td>EZ Putt Putt #240241</td>\n",
       "      <td>US</td>\n",
       "      <td>US</td>\n",
       "      <td>09</td>\n",
       "      <td>...</td>\n",
       "      <td>PURCHASE</td>\n",
       "      <td>6202.92</td>\n",
       "      <td>True</td>\n",
       "      <td>False</td>\n",
       "      <td>False</td>\n",
       "      <td>True</td>\n",
       "      <td>-1.000000</td>\n",
       "      <td>-1.000000</td>\n",
       "      <td>7.634465</td>\n",
       "      <td>0.438642</td>\n",
       "    </tr>\n",
       "    <tr>\n",
       "      <th>108768</th>\n",
       "      <td>611548179</td>\n",
       "      <td>611548179</td>\n",
       "      <td>5000.0</td>\n",
       "      <td>2095.10</td>\n",
       "      <td>2016-02-10T05:50:15</td>\n",
       "      <td>31.11</td>\n",
       "      <td>oldnavy.com</td>\n",
       "      <td>US</td>\n",
       "      <td>US</td>\n",
       "      <td>05</td>\n",
       "      <td>...</td>\n",
       "      <td>PURCHASE</td>\n",
       "      <td>2904.90</td>\n",
       "      <td>False</td>\n",
       "      <td>False</td>\n",
       "      <td>False</td>\n",
       "      <td>True</td>\n",
       "      <td>0.052219</td>\n",
       "      <td>0.062663</td>\n",
       "      <td>40.010444</td>\n",
       "      <td>3.362924</td>\n",
       "    </tr>\n",
       "    <tr>\n",
       "      <th>32118</th>\n",
       "      <td>492335288</td>\n",
       "      <td>492335288</td>\n",
       "      <td>2500.0</td>\n",
       "      <td>2365.59</td>\n",
       "      <td>2016-10-30T06:56:11</td>\n",
       "      <td>164.43</td>\n",
       "      <td>cheapfast.com</td>\n",
       "      <td>US</td>\n",
       "      <td>US</td>\n",
       "      <td>05</td>\n",
       "      <td>...</td>\n",
       "      <td>PURCHASE</td>\n",
       "      <td>134.41</td>\n",
       "      <td>False</td>\n",
       "      <td>False</td>\n",
       "      <td>False</td>\n",
       "      <td>True</td>\n",
       "      <td>0.020888</td>\n",
       "      <td>0.020888</td>\n",
       "      <td>40.010444</td>\n",
       "      <td>3.456919</td>\n",
       "    </tr>\n",
       "    <tr>\n",
       "      <th>...</th>\n",
       "      <td>...</td>\n",
       "      <td>...</td>\n",
       "      <td>...</td>\n",
       "      <td>...</td>\n",
       "      <td>...</td>\n",
       "      <td>...</td>\n",
       "      <td>...</td>\n",
       "      <td>...</td>\n",
       "      <td>...</td>\n",
       "      <td>...</td>\n",
       "      <td>...</td>\n",
       "      <td>...</td>\n",
       "      <td>...</td>\n",
       "      <td>...</td>\n",
       "      <td>...</td>\n",
       "      <td>...</td>\n",
       "      <td>...</td>\n",
       "      <td>...</td>\n",
       "      <td>...</td>\n",
       "      <td>...</td>\n",
       "      <td>...</td>\n",
       "    </tr>\n",
       "    <tr>\n",
       "      <th>59505</th>\n",
       "      <td>246251253</td>\n",
       "      <td>246251253</td>\n",
       "      <td>5000.0</td>\n",
       "      <td>1652.47</td>\n",
       "      <td>2016-12-25T23:27:38</td>\n",
       "      <td>142.83</td>\n",
       "      <td>Burger King #911143</td>\n",
       "      <td>US</td>\n",
       "      <td>US</td>\n",
       "      <td>05</td>\n",
       "      <td>...</td>\n",
       "      <td>PURCHASE</td>\n",
       "      <td>3347.53</td>\n",
       "      <td>True</td>\n",
       "      <td>False</td>\n",
       "      <td>False</td>\n",
       "      <td>True</td>\n",
       "      <td>2.266319</td>\n",
       "      <td>2.266319</td>\n",
       "      <td>8.647520</td>\n",
       "      <td>0.010444</td>\n",
       "    </tr>\n",
       "    <tr>\n",
       "      <th>218531</th>\n",
       "      <td>154757034</td>\n",
       "      <td>154757034</td>\n",
       "      <td>20000.0</td>\n",
       "      <td>19868.41</td>\n",
       "      <td>2016-08-20T13:17:02</td>\n",
       "      <td>0.00</td>\n",
       "      <td>staples.com</td>\n",
       "      <td>US</td>\n",
       "      <td>US</td>\n",
       "      <td>05</td>\n",
       "      <td>...</td>\n",
       "      <td>ADDRESS_VERIFICATION</td>\n",
       "      <td>131.59</td>\n",
       "      <td>False</td>\n",
       "      <td>False</td>\n",
       "      <td>False</td>\n",
       "      <td>True</td>\n",
       "      <td>-1.000000</td>\n",
       "      <td>0.010444</td>\n",
       "      <td>40.010444</td>\n",
       "      <td>3.206266</td>\n",
       "    </tr>\n",
       "    <tr>\n",
       "      <th>163134</th>\n",
       "      <td>592932056</td>\n",
       "      <td>592932056</td>\n",
       "      <td>1000.0</td>\n",
       "      <td>615.57</td>\n",
       "      <td>2016-10-06T14:30:49</td>\n",
       "      <td>366.39</td>\n",
       "      <td>Shell Repair</td>\n",
       "      <td>US</td>\n",
       "      <td>US</td>\n",
       "      <td>02</td>\n",
       "      <td>...</td>\n",
       "      <td>PURCHASE</td>\n",
       "      <td>384.43</td>\n",
       "      <td>True</td>\n",
       "      <td>False</td>\n",
       "      <td>False</td>\n",
       "      <td>True</td>\n",
       "      <td>0.062663</td>\n",
       "      <td>-1.000000</td>\n",
       "      <td>2.360313</td>\n",
       "      <td>0.146214</td>\n",
       "    </tr>\n",
       "    <tr>\n",
       "      <th>741045</th>\n",
       "      <td>541038801</td>\n",
       "      <td>541038801</td>\n",
       "      <td>2500.0</td>\n",
       "      <td>233.70</td>\n",
       "      <td>2016-10-05T00:47:47</td>\n",
       "      <td>1.66</td>\n",
       "      <td>CVS #314207</td>\n",
       "      <td>US</td>\n",
       "      <td>US</td>\n",
       "      <td>09</td>\n",
       "      <td>...</td>\n",
       "      <td>PURCHASE</td>\n",
       "      <td>2266.30</td>\n",
       "      <td>False</td>\n",
       "      <td>False</td>\n",
       "      <td>False</td>\n",
       "      <td>True</td>\n",
       "      <td>-1.000000</td>\n",
       "      <td>-1.000000</td>\n",
       "      <td>0.731070</td>\n",
       "      <td>-1.000000</td>\n",
       "    </tr>\n",
       "    <tr>\n",
       "      <th>26268</th>\n",
       "      <td>266947075</td>\n",
       "      <td>266947075</td>\n",
       "      <td>7500.0</td>\n",
       "      <td>7500.00</td>\n",
       "      <td>2016-01-15T15:40:59</td>\n",
       "      <td>71.09</td>\n",
       "      <td>Universe Massage #710883</td>\n",
       "      <td>US</td>\n",
       "      <td>US</td>\n",
       "      <td>09</td>\n",
       "      <td>...</td>\n",
       "      <td>PURCHASE</td>\n",
       "      <td>0.00</td>\n",
       "      <td>True</td>\n",
       "      <td>False</td>\n",
       "      <td>False</td>\n",
       "      <td>True</td>\n",
       "      <td>-1.000000</td>\n",
       "      <td>-1.000000</td>\n",
       "      <td>0.657963</td>\n",
       "      <td>-1.000000</td>\n",
       "    </tr>\n",
       "  </tbody>\n",
       "</table>\n",
       "<p>606809 rows × 28 columns</p>\n",
       "</div>"
      ],
      "text/plain": [
       "       accountNumber customerId  creditLimit  availableMoney  \\\n",
       "580791     882815134  882815134      50000.0        41062.73   \n",
       "266003     380680241  380680241       5000.0         2970.45   \n",
       "236122     735497372  735497372      15000.0         8797.08   \n",
       "108768     611548179  611548179       5000.0         2095.10   \n",
       "32118      492335288  492335288       2500.0         2365.59   \n",
       "...              ...        ...          ...             ...   \n",
       "59505      246251253  246251253       5000.0         1652.47   \n",
       "218531     154757034  154757034      20000.0        19868.41   \n",
       "163134     592932056  592932056       1000.0          615.57   \n",
       "741045     541038801  541038801       2500.0          233.70   \n",
       "26268      266947075  266947075       7500.0         7500.00   \n",
       "\n",
       "        transactionDateTime  transactionAmount              merchantName  \\\n",
       "580791  2016-02-08T17:31:33              54.87     Hilton Hotels #720012   \n",
       "266003  2016-10-14T21:34:28              14.79              Fresh eCards   \n",
       "236122  2016-02-16T17:02:16              91.87      EZ Putt Putt #240241   \n",
       "108768  2016-02-10T05:50:15              31.11               oldnavy.com   \n",
       "32118   2016-10-30T06:56:11             164.43             cheapfast.com   \n",
       "...                     ...                ...                       ...   \n",
       "59505   2016-12-25T23:27:38             142.83       Burger King #911143   \n",
       "218531  2016-08-20T13:17:02               0.00               staples.com   \n",
       "163134  2016-10-06T14:30:49             366.39              Shell Repair   \n",
       "741045  2016-10-05T00:47:47               1.66               CVS #314207   \n",
       "26268   2016-01-15T15:40:59              71.09  Universe Massage #710883   \n",
       "\n",
       "       acqCountry merchantCountryCode posEntryMode  ...       transactionType  \\\n",
       "580791         US                  US           05  ...              PURCHASE   \n",
       "266003         US                  US           80  ...              PURCHASE   \n",
       "236122         US                  US           09  ...              PURCHASE   \n",
       "108768         US                  US           05  ...              PURCHASE   \n",
       "32118          US                  US           05  ...              PURCHASE   \n",
       "...           ...                 ...          ...  ...                   ...   \n",
       "59505          US                  US           05  ...              PURCHASE   \n",
       "218531         US                  US           05  ...  ADDRESS_VERIFICATION   \n",
       "163134         US                  US           02  ...              PURCHASE   \n",
       "741045         US                  US           09  ...              PURCHASE   \n",
       "26268          US                  US           09  ...              PURCHASE   \n",
       "\n",
       "       currentBalance cardPresent expirationDateKeyInMatch isFraud CVV_check  \\\n",
       "580791        8937.27       False                    False   False      True   \n",
       "266003        2029.55       False                    False   False      True   \n",
       "236122        6202.92        True                    False   False      True   \n",
       "108768        2904.90       False                    False   False      True   \n",
       "32118          134.41       False                    False   False      True   \n",
       "...               ...         ...                      ...     ...       ...   \n",
       "59505         3347.53        True                    False   False      True   \n",
       "218531         131.59       False                    False   False      True   \n",
       "163134         384.43        True                    False   False      True   \n",
       "741045        2266.30       False                    False   False      True   \n",
       "26268            0.00        True                    False   False      True   \n",
       "\n",
       "       contribution_%_by_account_number contribution_%_by_cardLast4Digits  \\\n",
       "580791                         0.741514                          0.417755   \n",
       "266003                         6.172324                          6.172324   \n",
       "236122                        -1.000000                         -1.000000   \n",
       "108768                         0.052219                          0.062663   \n",
       "32118                          0.020888                          0.020888   \n",
       "...                                 ...                               ...   \n",
       "59505                          2.266319                          2.266319   \n",
       "218531                        -1.000000                          0.010444   \n",
       "163134                         0.062663                         -1.000000   \n",
       "741045                        -1.000000                         -1.000000   \n",
       "26268                         -1.000000                         -1.000000   \n",
       "\n",
       "       contribution_%_by_merchantCategoryCode  contribution_%_by_merchantName  \n",
       "580791                               2.005222                       -1.000000  \n",
       "266003                              12.731070                        1.744125  \n",
       "236122                               7.634465                        0.438642  \n",
       "108768                              40.010444                        3.362924  \n",
       "32118                               40.010444                        3.456919  \n",
       "...                                       ...                             ...  \n",
       "59505                                8.647520                        0.010444  \n",
       "218531                              40.010444                        3.206266  \n",
       "163134                               2.360313                        0.146214  \n",
       "741045                               0.731070                       -1.000000  \n",
       "26268                                0.657963                       -1.000000  \n",
       "\n",
       "[606809 rows x 28 columns]"
      ]
     },
     "execution_count": 916,
     "metadata": {},
     "output_type": "execute_result"
    }
   ],
   "source": [
    "train"
   ]
  },
  {
   "cell_type": "markdown",
   "id": "5cfa8c28",
   "metadata": {},
   "source": [
    "##### "
   ]
  },
  {
   "cell_type": "markdown",
   "id": "d382f34f",
   "metadata": {},
   "source": [
    "##### "
   ]
  },
  {
   "cell_type": "markdown",
   "id": "6dcabf65",
   "metadata": {},
   "source": [
    "##### Correlation Check and dropping correlated variables"
   ]
  },
  {
   "cell_type": "code",
   "execution_count": 918,
   "id": "d7e645a3",
   "metadata": {},
   "outputs": [],
   "source": [
    "df1=train.copy()\n",
    "for i in df1:\n",
    "    if df1[i].dtypes=='object':\n",
    "        df1[i]=df1[i].astype('category').cat.codes"
   ]
  },
  {
   "cell_type": "code",
   "execution_count": 920,
   "id": "1e96a9f2",
   "metadata": {},
   "outputs": [
    {
     "name": "stdout",
     "output_type": "stream",
     "text": [
      "dropping correlated variables :  ['customerId', 'availableMoney', 'merchantCountryCode', 'enteredCVV', 'contribution_%_by_cardLast4Digits']\n"
     ]
    },
    {
     "data": {
      "image/png": "[encoded data removed]",
      "text/plain": [
       "<Figure size 1440x1440 with 2 Axes>"
      ]
     },
     "metadata": {
      "needs_background": "light"
     },
     "output_type": "display_data"
    }
   ],
   "source": [
    "corr_matrix = df1.corr()\n",
    "fig, ax = plt.subplots()\n",
    "fig.set_size_inches(20,20)\n",
    "sns.heatmap(corr_matrix,annot=True)\n",
    "upper = corr_matrix.where(np.triu(np.ones(corr_matrix.shape), k=1).astype(np.bool))\n",
    "to_drop = [column for column in upper.columns if any(upper[column] > 0.8)]\n",
    "print(\"dropping correlated variables : \",to_drop)\n",
    "train.drop(to_drop,1,inplace=True)\n",
    "test.drop(to_drop,1,inplace=True)"
   ]
  },
  {
   "cell_type": "code",
   "execution_count": 921,
   "id": "4f8aa7d4",
   "metadata": {},
   "outputs": [
    {
     "data": {
      "text/plain": [
       "Index(['accountNumber', 'creditLimit', 'transactionDateTime',\n",
       "       'transactionAmount', 'merchantName', 'acqCountry', 'posEntryMode',\n",
       "       'posConditionCode', 'merchantCategoryCode', 'currentExpDate',\n",
       "       'accountOpenDate', 'dateOfLastAddressChange', 'cardCVV',\n",
       "       'cardLast4Digits', 'transactionType', 'currentBalance', 'cardPresent',\n",
       "       'expirationDateKeyInMatch', 'isFraud', 'CVV_check',\n",
       "       'contribution_%_by_account_number',\n",
       "       'contribution_%_by_merchantCategoryCode',\n",
       "       'contribution_%_by_merchantName'],\n",
       "      dtype='object')"
      ]
     },
     "execution_count": 921,
     "metadata": {},
     "output_type": "execute_result"
    }
   ],
   "source": [
    "train.columns"
   ]
  },
  {
   "cell_type": "markdown",
   "id": "d0533894",
   "metadata": {},
   "source": [
    "After dropping the correlated variables, there are a few more features that need to dropped. \n",
    "\n",
    "For instance, \n",
    "transactionDateTime : this feature shows the date time on which the transaction was made. This essentially adds no value to the model."
   ]
  },
  {
   "cell_type": "code",
   "execution_count": 922,
   "id": "d25b21c3",
   "metadata": {},
   "outputs": [],
   "source": [
    "l=['accountNumber', 'transactionDateTime','acqCountry', 'currentExpDate',\n",
    "   'accountOpenDate', 'dateOfLastAddressChange','posEntryMode',\n",
    "   'posConditionCode','cardCVV','cardLast4Digits', 'expirationDateKeyInMatch']\n",
    "train.drop(l,1,inplace=True)\n",
    "test.drop(l,1,inplace=True)"
   ]
  },
  {
   "cell_type": "code",
   "execution_count": 923,
   "id": "92818d9e",
   "metadata": {},
   "outputs": [
    {
     "data": {
      "text/plain": [
       "creditLimit                               float64\n",
       "transactionAmount                         float64\n",
       "merchantName                               object\n",
       "merchantCategoryCode                       object\n",
       "transactionType                            object\n",
       "currentBalance                            float64\n",
       "cardPresent                                  bool\n",
       "isFraud                                      bool\n",
       "CVV_check                                    bool\n",
       "contribution_%_by_account_number          float64\n",
       "contribution_%_by_merchantCategoryCode    float64\n",
       "contribution_%_by_merchantName            float64\n",
       "dtype: object"
      ]
     },
     "execution_count": 923,
     "metadata": {},
     "output_type": "execute_result"
    }
   ],
   "source": [
    "train.dtypes"
   ]
  },
  {
   "cell_type": "markdown",
   "id": "8fcc574f",
   "metadata": {},
   "source": [
    "###### handling categorical data type"
   ]
  },
  {
   "cell_type": "code",
   "execution_count": 924,
   "id": "cdff27b6",
   "metadata": {},
   "outputs": [],
   "source": [
    "for i in train:\n",
    "    if train[i].dtypes=='object':\n",
    "        train[i]=train[i].astype('category').cat.codes\n",
    "        test[i]=test[i].astype('category').cat.codes"
   ]
  },
  {
   "cell_type": "markdown",
   "id": "1226edab",
   "metadata": {},
   "source": [
    "##### "
   ]
  },
  {
   "cell_type": "markdown",
   "id": "3a5eedfe",
   "metadata": {},
   "source": [
    "##### Final correlation check"
   ]
  },
  {
   "cell_type": "code",
   "execution_count": 926,
   "id": "5d52aed7",
   "metadata": {},
   "outputs": [
    {
     "data": {
      "text/plain": [
       "<AxesSubplot:>"
      ]
     },
     "execution_count": 926,
     "metadata": {},
     "output_type": "execute_result"
    },
    {
     "data": {
      "image/png": "[encoded data removed]",
      "text/plain": [
       "<Figure size 792x792 with 2 Axes>"
      ]
     },
     "metadata": {
      "needs_background": "light"
     },
     "output_type": "display_data"
    }
   ],
   "source": [
    "corr_matrix = train.corr()\n",
    "fig, ax = plt.subplots()\n",
    "fig.set_size_inches(11,11)\n",
    "sns.heatmap(corr_matrix,annot=True)\n"
   ]
  },
  {
   "cell_type": "markdown",
   "id": "13aa3ac7",
   "metadata": {},
   "source": [
    "Now none of the features are correlated and these can be used for modeling."
   ]
  },
  {
   "cell_type": "markdown",
   "id": "1fc1b6cf",
   "metadata": {},
   "source": [
    "##### "
   ]
  },
  {
   "cell_type": "code",
   "execution_count": 927,
   "id": "f4b5444a",
   "metadata": {},
   "outputs": [
    {
     "data": {
      "text/plain": [
       "['creditLimit',\n",
       " 'transactionAmount',\n",
       " 'merchantName',\n",
       " 'merchantCategoryCode',\n",
       " 'transactionType',\n",
       " 'currentBalance',\n",
       " 'cardPresent',\n",
       " 'isFraud',\n",
       " 'CVV_check',\n",
       " 'contribution_%_by_account_number',\n",
       " 'contribution_%_by_merchantCategoryCode',\n",
       " 'contribution_%_by_merchantName']"
      ]
     },
     "execution_count": 927,
     "metadata": {},
     "output_type": "execute_result"
    }
   ],
   "source": [
    "feature_list=list(train.columns)\n",
    "feature_list"
   ]
  },
  {
   "cell_type": "code",
   "execution_count": 928,
   "id": "01713210",
   "metadata": {},
   "outputs": [],
   "source": [
    "feature_list=list(train.columns)\n",
    "y_train=train[feature_list[feature_list.index('isFraud')]]\n",
    "y_test=test[feature_list[feature_list.index('isFraud')]]\n",
    "del feature_list[feature_list.index('isFraud')]\n",
    "\n",
    "X_train=train[feature_list]\n",
    "X_test=test[feature_list]"
   ]
  },
  {
   "cell_type": "markdown",
   "id": "148eab8f",
   "metadata": {},
   "source": [
    "##### This step basically sets the X_train, X_test, y_train and y_test values"
   ]
  },
  {
   "cell_type": "markdown",
   "id": "d15997d1",
   "metadata": {},
   "source": [
    "##### "
   ]
  },
  {
   "cell_type": "markdown",
   "id": "b8f27cb9",
   "metadata": {},
   "source": [
    "###### Feature Scaling "
   ]
  },
  {
   "cell_type": "code",
   "execution_count": 930,
   "id": "ea47db09",
   "metadata": {},
   "outputs": [],
   "source": [
    "from sklearn.preprocessing import MinMaxScaler\n",
    "scaler = MinMaxScaler()\n",
    "X_train = pd.DataFrame(scaler.fit_transform(X_train), columns=X_train.columns)\n",
    "X_test = pd.DataFrame(scaler.fit_transform(X_test), columns=X_test.columns)"
   ]
  },
  {
   "cell_type": "code",
   "execution_count": 931,
   "id": "dd091d9d",
   "metadata": {},
   "outputs": [
    {
     "data": {
      "text/plain": [
       "((606809, 11), (151703, 11))"
      ]
     },
     "execution_count": 931,
     "metadata": {},
     "output_type": "execute_result"
    }
   ],
   "source": [
    "X_train.shape,X_test.shape"
   ]
  },
  {
   "cell_type": "code",
   "execution_count": 932,
   "id": "74a1ee84",
   "metadata": {},
   "outputs": [
    {
     "data": {
      "text/plain": [
       "((606809,), (151703,))"
      ]
     },
     "execution_count": 932,
     "metadata": {},
     "output_type": "execute_result"
    }
   ],
   "source": [
    "y_train.shape,y_test.shape"
   ]
  },
  {
   "cell_type": "markdown",
   "id": "22c2136e",
   "metadata": {},
   "source": [
    "##### "
   ]
  },
  {
   "cell_type": "markdown",
   "id": "7548f6f2",
   "metadata": {},
   "source": [
    "##### "
   ]
  },
  {
   "cell_type": "markdown",
   "id": "c4c7e0ee",
   "metadata": {},
   "source": [
    "##### SMOTE for imbalanced dataset"
   ]
  },
  {
   "cell_type": "code",
   "execution_count": 857,
   "id": "24a02c47",
   "metadata": {},
   "outputs": [
    {
     "name": "stdout",
     "output_type": "stream",
     "text": [
      "The number of classes before fit Counter({False: 597234, True: 9575})\n",
      "The number of classes after fit Counter({False: 593092, True: 443783})\n"
     ]
    }
   ],
   "source": [
    "from imblearn.combine import SMOTETomek\n",
    "from collections import Counter\n",
    "from imblearn.under_sampling import NearMiss\n",
    "os=SMOTETomek(0.75)\n",
    "X_train_ns,y_train_ns=os.fit_resample(X_train,y_train)\n",
    "print(\"The number of classes before fit {}\".format(Counter(y_train)))\n",
    "print(\"The number of classes after fit {}\".format(Counter(y_train_ns)))"
   ]
  },
  {
   "cell_type": "markdown",
   "id": "ed576ebd",
   "metadata": {},
   "source": [
    "Smote is synthetic minority over-sampling which over samples the minority data points by creating new data points in the feature space using k nearest neighbours algorithm.\n",
    "\n",
    "I will be testing with and without Smote data."
   ]
  },
  {
   "cell_type": "markdown",
   "id": "1a0124d7",
   "metadata": {},
   "source": [
    "##### "
   ]
  },
  {
   "cell_type": "markdown",
   "id": "462572e7",
   "metadata": {},
   "source": [
    "#### Modeling"
   ]
  },
  {
   "cell_type": "markdown",
   "id": "330b68b8",
   "metadata": {},
   "source": [
    "Now, Since this is a highly imbalanced dataset, \n",
    "there are 2 ways to look at the modeling and performance metric:\n",
    "\n",
    "1. I am assuming it is essential to classify the Fraudulent transactions which means that the recall of 'True' class in isFraud dependent variable should be as high as possible.\n",
    "\n",
    "2. Trade off between f1 score of both the classes\n",
    "\n",
    "My gut feeling says that even if a transaction is predicted \"True\" but in reality it was \"False\" (Type 1 error), it is not that problematic as opposed to otherwise which is a fraudulent transaction being predicted as not Fraud.\n",
    "\n",
    "So I will be focussing to achieve a recall score as high as possible for \"True\" fraud transactions so the Data Analyst does not miss out on fraud transactions predicted by the model!"
   ]
  },
  {
   "cell_type": "markdown",
   "id": "bab4fb05",
   "metadata": {},
   "source": [
    "##### "
   ]
  },
  {
   "cell_type": "code",
   "execution_count": null,
   "id": "6183c5ec",
   "metadata": {},
   "outputs": [],
   "source": []
  },
  {
   "cell_type": "markdown",
   "id": "01ee61d1",
   "metadata": {},
   "source": [
    "###### Gradient Boosting"
   ]
  },
  {
   "cell_type": "code",
   "execution_count": 970,
   "id": "09d1784a",
   "metadata": {},
   "outputs": [
    {
     "name": "stdout",
     "output_type": "stream",
     "text": [
      "[[109286  40023]\n",
      " [   970   1424]]\n",
      "0.7297812172468573\n",
      "              precision    recall  f1-score   support\n",
      "\n",
      "       False       0.99      0.73      0.84    149309\n",
      "        True       0.03      0.59      0.06      2394\n",
      "\n",
      "    accuracy                           0.73    151703\n",
      "   macro avg       0.51      0.66      0.45    151703\n",
      "weighted avg       0.98      0.73      0.83    151703\n",
      "\n"
     ]
    },
    {
     "data": {
      "image/png": "[encoded data removed]",
      "text/plain": [
       "<Figure size 432x288 with 1 Axes>"
      ]
     },
     "metadata": {
      "needs_background": "light"
     },
     "output_type": "display_data"
    }
   ],
   "source": [
    "from sklearn.ensemble import GradientBoostingClassifier\n",
    "classifier = GradientBoostingClassifier(n_estimators=100, learning_rate=1.0,max_depth=1, random_state=0)\n",
    "classifier.fit(X_train_ns,y_train_ns)\n",
    "y_pred=classifier.predict(X_test)\n",
    "print(confusion_matrix(y_test,y_pred))\n",
    "print(accuracy_score(y_test,y_pred))\n",
    "print(classification_report(y_test,y_pred))\n",
    "\n",
    "# feature importance\n",
    "feat_importances = pd.Series(classifier.feature_importances_, index=X_train.columns)\n",
    "feat_importances.nlargest(7).plot(kind='barh')\n",
    "plt.show()"
   ]
  },
  {
   "cell_type": "markdown",
   "id": "12b76b13",
   "metadata": {},
   "source": [
    "Gradient Boosting with Synthetic Oversampled data gives an overall accuracy of almost 73 % with a recall score of 59% for the minority class (True Fraud data). I feel this is a good trade off between overall accuracy and capturing minority classes.\n",
    "\n",
    "However, I found other models capturing the minority classes way better that this but compromising overall accuracy.\n",
    "\n",
    "\n",
    "The most important features are shown in the Bar Plot!"
   ]
  },
  {
   "cell_type": "markdown",
   "id": "1cc5f729",
   "metadata": {},
   "source": [
    "##### "
   ]
  },
  {
   "cell_type": "markdown",
   "id": "957f7261",
   "metadata": {},
   "source": [
    "###### Light Gradient Boosting"
   ]
  },
  {
   "cell_type": "code",
   "execution_count": 971,
   "id": "6490e953",
   "metadata": {},
   "outputs": [
    {
     "name": "stdout",
     "output_type": "stream",
     "text": [
      "[[77496 71813]\n",
      " [  471  1923]]\n",
      "Model accuracy  0.523516344436168\n",
      "              precision    recall  f1-score   support\n",
      "\n",
      "       False       0.99      0.52      0.68    149309\n",
      "        True       0.03      0.80      0.05      2394\n",
      "\n",
      "    accuracy                           0.52    151703\n",
      "   macro avg       0.51      0.66      0.37    151703\n",
      "weighted avg       0.98      0.52      0.67    151703\n",
      "\n"
     ]
    },
    {
     "data": {
      "image/png": "[encoded data removed]",
      "text/plain": [
       "<Figure size 432x288 with 1 Axes>"
      ]
     },
     "metadata": {
      "needs_background": "light"
     },
     "output_type": "display_data"
    }
   ],
   "source": [
    "import lightgbm\n",
    "from lightgbm import LGBMClassifier\n",
    "from sklearn.metrics import accuracy_score,confusion_matrix,classification_report\n",
    "\n",
    "model=LGBMClassifier(n_estimators=200, num_leaves=4,min_child_samples=100,class_weight='balanced',\n",
    "                     learning_rate=0.01,#scale_pos_weight=0.022,#reg_alpha=0.0, reg_lambda=0.0,\n",
    "                    subsample=0.8, random_state=1, verbose=-1)\n",
    "\n",
    "model.fit(X_train, y_train)\n",
    "\n",
    "y_pred = model.predict(X_test)\n",
    "print(confusion_matrix(y_test,y_pred))\n",
    "print(\"Model accuracy \",accuracy_score(y_test,y_pred))\n",
    "print(classification_report(y_test,y_pred))\n",
    "\n",
    "# feature importance\n",
    "feat_importances = pd.Series(model.feature_importances_, index=X_train.columns)\n",
    "feat_importances.nlargest(8).plot(kind='barh')\n",
    "plt.show()"
   ]
  },
  {
   "cell_type": "markdown",
   "id": "bb3f0097",
   "metadata": {},
   "source": [
    "For light gbm, the model accuracy is not very high but the recall value of \"True\" class is 80% which is very good for this imbalanced data."
   ]
  },
  {
   "cell_type": "markdown",
   "id": "e060c641",
   "metadata": {},
   "source": [
    "##### "
   ]
  },
  {
   "cell_type": "code",
   "execution_count": 972,
   "id": "00a844c0",
   "metadata": {},
   "outputs": [
    {
     "name": "stdout",
     "output_type": "stream",
     "text": [
      "[[95651 53658]\n",
      " [  785  1609]]\n",
      "Model accuracy  0.6411211380130913\n",
      "              precision    recall  f1-score   support\n",
      "\n",
      "       False       0.99      0.64      0.78    149309\n",
      "        True       0.03      0.67      0.06      2394\n",
      "\n",
      "    accuracy                           0.64    151703\n",
      "   macro avg       0.51      0.66      0.42    151703\n",
      "weighted avg       0.98      0.64      0.77    151703\n",
      "\n"
     ]
    },
    {
     "data": {
      "image/png": "[encoded data removed]",
      "text/plain": [
       "<Figure size 432x288 with 1 Axes>"
      ]
     },
     "metadata": {
      "needs_background": "light"
     },
     "output_type": "display_data"
    }
   ],
   "source": [
    "# lightgbm with smote data\n",
    "import lightgbm\n",
    "from lightgbm import LGBMClassifier\n",
    "from sklearn.metrics import accuracy_score,confusion_matrix,classification_report\n",
    "\n",
    "model=LGBMClassifier(n_estimators=400, num_leaves=4,min_child_samples=100,class_weight='balanced',\n",
    "                     learning_rate=0.02,subsample=0.8, random_state=1, verbose=-1)\n",
    "\n",
    "model.fit(X_train_ns, y_train_ns)\n",
    "\n",
    "y_pred = model.predict(X_test)\n",
    "print(confusion_matrix(y_test,y_pred))\n",
    "print(\"Model accuracy \",accuracy_score(y_test,y_pred))\n",
    "print(classification_report(y_test,y_pred))\n",
    "\n",
    "# feature importance\n",
    "feat_importances = pd.Series(model.feature_importances_, index=X_train.columns)\n",
    "feat_importances.nlargest(8).plot(kind='barh')\n",
    "plt.show()"
   ]
  },
  {
   "cell_type": "markdown",
   "id": "911e4ee8",
   "metadata": {},
   "source": [
    "If I use the SMOTE data, model accuracy increases to 64% but compromises the recall score to 67% for \"True\" class which I feel is a good compromise.\n",
    "\n",
    "So this Trade off between recall value of minority class (\"True\" Fraudulent class) and Overall accuracy has to be decided!"
   ]
  },
  {
   "cell_type": "markdown",
   "id": "7a509145",
   "metadata": {},
   "source": [
    "##### "
   ]
  },
  {
   "cell_type": "markdown",
   "id": "e9cf6e2f",
   "metadata": {},
   "source": [
    "##### XGBoosting"
   ]
  },
  {
   "cell_type": "code",
   "execution_count": 961,
   "id": "df8a7f9b",
   "metadata": {},
   "outputs": [
    {
     "name": "stdout",
     "output_type": "stream",
     "text": [
      "[[149309      0]\n",
      " [  2349     45]]\n",
      "0.9845157973144895\n",
      "              precision    recall  f1-score   support\n",
      "\n",
      "       False       0.98      1.00      0.99    149309\n",
      "        True       1.00      0.02      0.04      2394\n",
      "\n",
      "    accuracy                           0.98    151703\n",
      "   macro avg       0.99      0.51      0.51    151703\n",
      "weighted avg       0.98      0.98      0.98    151703\n",
      "\n"
     ]
    }
   ],
   "source": [
    "import xgboost as xgb\n",
    "xgb_model = xgb.XGBClassifier(learning_rate=0.01,verbosity=0)\n",
    "xgb_model.fit(X_train, y_train)\n",
    "xgb_predict=xgb_model.predict(X_test)\n",
    "print(confusion_matrix(y_test,xgb_predict))\n",
    "print(accuracy_score(y_test,xgb_predict))\n",
    "print(classification_report(y_test,xgb_predict))"
   ]
  },
  {
   "cell_type": "markdown",
   "id": "57d57d58",
   "metadata": {},
   "source": [
    "Overall accuracy is impressively 98% but this model fails to capture most of the minority classes which defeats the purpose of Fraudulent classification :("
   ]
  },
  {
   "cell_type": "markdown",
   "id": "7a076ba5",
   "metadata": {},
   "source": [
    "##### "
   ]
  },
  {
   "cell_type": "code",
   "execution_count": 973,
   "id": "d7d3e1b0",
   "metadata": {},
   "outputs": [
    {
     "name": "stdout",
     "output_type": "stream",
     "text": [
      "[[98802 50507]\n",
      " [  822  1572]]\n",
      "0.6616480886996302\n",
      "              precision    recall  f1-score   support\n",
      "\n",
      "       False       0.99      0.66      0.79    149309\n",
      "        True       0.03      0.66      0.06      2394\n",
      "\n",
      "    accuracy                           0.66    151703\n",
      "   macro avg       0.51      0.66      0.43    151703\n",
      "weighted avg       0.98      0.66      0.78    151703\n",
      "\n"
     ]
    },
    {
     "data": {
      "image/png": "[encoded data removed]",
      "text/plain": [
       "<Figure size 432x288 with 1 Axes>"
      ]
     },
     "metadata": {
      "needs_background": "light"
     },
     "output_type": "display_data"
    }
   ],
   "source": [
    "import xgboost as xgb\n",
    "xgb_model = xgb.XGBClassifier(learning_rate=0.01,verbosity=0)\n",
    "xgb_model.fit(X_train_ns, y_train_ns)\n",
    "xgb_predict=xgb_model.predict(X_test)\n",
    "print(confusion_matrix(y_test,xgb_predict))\n",
    "print(accuracy_score(y_test,xgb_predict))\n",
    "print(classification_report(y_test,xgb_predict))\n",
    "\n",
    "# feature importance\n",
    "feat_importances = pd.Series(model.feature_importances_, index=X_train.columns)\n",
    "feat_importances.nlargest(8).plot(kind='barh')\n",
    "plt.show()"
   ]
  },
  {
   "cell_type": "markdown",
   "id": "72d3fc53",
   "metadata": {},
   "source": [
    "Using the Smote data, the xgboosting model is able to classify minority classes better."
   ]
  },
  {
   "cell_type": "markdown",
   "id": "e5ea4526",
   "metadata": {},
   "source": [
    "##### "
   ]
  },
  {
   "cell_type": "markdown",
   "id": "3d9c8085",
   "metadata": {},
   "source": [
    "##### Decision Trees"
   ]
  },
  {
   "cell_type": "code",
   "execution_count": 952,
   "id": "d68f52ac",
   "metadata": {},
   "outputs": [
    {
     "name": "stdout",
     "output_type": "stream",
     "text": [
      "[[146715   2594]\n",
      " [  1894    500]]\n",
      "0.9704158783939671\n",
      "              precision    recall  f1-score   support\n",
      "\n",
      "       False       0.99      0.98      0.98    149309\n",
      "        True       0.16      0.21      0.18      2394\n",
      "\n",
      "    accuracy                           0.97    151703\n",
      "   macro avg       0.57      0.60      0.58    151703\n",
      "weighted avg       0.97      0.97      0.97    151703\n",
      "\n"
     ]
    }
   ],
   "source": [
    "from sklearn.tree import DecisionTreeClassifier\n",
    "\n",
    "clf = DecisionTreeClassifier()\n",
    "\n",
    "clf = clf.fit(X_train,y_train)\n",
    "y_pred = clf.predict(X_test)\n",
    "print(confusion_matrix(y_test,y_pred))\n",
    "print(accuracy_score(y_test,y_pred))\n",
    "print(classification_report(y_test,y_pred))"
   ]
  },
  {
   "cell_type": "code",
   "execution_count": 953,
   "id": "6ba7383f",
   "metadata": {},
   "outputs": [
    {
     "name": "stdout",
     "output_type": "stream",
     "text": [
      "[[139097  10212]\n",
      " [  1594    800]]\n",
      "0.9221768850978557\n",
      "              precision    recall  f1-score   support\n",
      "\n",
      "       False       0.99      0.93      0.96    149309\n",
      "        True       0.07      0.33      0.12      2394\n",
      "\n",
      "    accuracy                           0.92    151703\n",
      "   macro avg       0.53      0.63      0.54    151703\n",
      "weighted avg       0.97      0.92      0.95    151703\n",
      "\n"
     ]
    }
   ],
   "source": [
    "# Decision Trees on SMOTE Data\n",
    "clf = DecisionTreeClassifier()\n",
    "\n",
    "clf = clf.fit(X_train_ns,y_train_ns)\n",
    "y_pred = clf.predict(X_test)\n",
    "print(confusion_matrix(y_test,y_pred))\n",
    "print(accuracy_score(y_test,y_pred))\n",
    "print(classification_report(y_test,y_pred))"
   ]
  },
  {
   "cell_type": "markdown",
   "id": "a80deb35",
   "metadata": {},
   "source": [
    "###### "
   ]
  },
  {
   "cell_type": "code",
   "execution_count": 956,
   "id": "4a78a432",
   "metadata": {},
   "outputs": [],
   "source": [
    "# # hyper parameter optimization on decision trees\n",
    "# param_dict={\n",
    "#     \"criterion\":['gini','entropy'],\n",
    "#     \"max_depth\" : range(1,10),\n",
    "#     \"min_samples_split\":range(1,10),\n",
    "#     \"min_samples_leaf\":range(1,5)\n",
    "# }\n",
    "# grid=GridSearchCV(clf,\n",
    "#                  param_grid=param_dict,\n",
    "#                  cv=5,\n",
    "#                  verbose=1,\n",
    "#                  n_jobs=-1)\n",
    "# grid.fit(X_train,y_train)\n",
    "# print(grid.best_params_)\n",
    "# grid.best_estimator_"
   ]
  },
  {
   "cell_type": "markdown",
   "id": "9cac0e9b",
   "metadata": {},
   "source": [
    "##### "
   ]
  },
  {
   "cell_type": "markdown",
   "id": "edb892cd",
   "metadata": {},
   "source": [
    "###### Randomforest Classifier"
   ]
  },
  {
   "cell_type": "code",
   "execution_count": 957,
   "id": "2fe8fdeb",
   "metadata": {},
   "outputs": [
    {
     "name": "stdout",
     "output_type": "stream",
     "text": [
      "[[149252     57]\n",
      " [  2061    333]]\n",
      "0.9860385094559765\n",
      "              precision    recall  f1-score   support\n",
      "\n",
      "       False       0.99      1.00      0.99    149309\n",
      "        True       0.85      0.14      0.24      2394\n",
      "\n",
      "    accuracy                           0.99    151703\n",
      "   macro avg       0.92      0.57      0.62    151703\n",
      "weighted avg       0.98      0.99      0.98    151703\n",
      "\n"
     ]
    }
   ],
   "source": [
    "from sklearn.ensemble import RandomForestClassifier\n",
    "classifier=RandomForestClassifier()\n",
    "classifier.fit(X_train,y_train)\n",
    "y_pred=classifier.predict(X_test)\n",
    "print(confusion_matrix(y_test,y_pred))\n",
    "print(accuracy_score(y_test,y_pred))\n",
    "print(classification_report(y_test,y_pred))"
   ]
  },
  {
   "cell_type": "code",
   "execution_count": 958,
   "id": "b60316b3",
   "metadata": {},
   "outputs": [
    {
     "name": "stdout",
     "output_type": "stream",
     "text": [
      "[[138852  10457]\n",
      " [  1537    857]]\n",
      "0.9209376215368187\n",
      "              precision    recall  f1-score   support\n",
      "\n",
      "       False       0.99      0.93      0.96    149309\n",
      "        True       0.08      0.36      0.13      2394\n",
      "\n",
      "    accuracy                           0.92    151703\n",
      "   macro avg       0.53      0.64      0.54    151703\n",
      "weighted avg       0.97      0.92      0.95    151703\n",
      "\n"
     ]
    }
   ],
   "source": [
    "# Randomforest on SMOTE Data\n",
    "\n",
    "from sklearn.ensemble import RandomForestClassifier\n",
    "classifier=RandomForestClassifier()\n",
    "classifier.fit(X_train_ns,y_train_ns)\n",
    "y_pred=classifier.predict(X_test)\n",
    "print(confusion_matrix(y_test,y_pred))\n",
    "print(accuracy_score(y_test,y_pred))\n",
    "print(classification_report(y_test,y_pred))"
   ]
  },
  {
   "cell_type": "markdown",
   "id": "d7381341",
   "metadata": {},
   "source": [
    "##### "
   ]
  },
  {
   "cell_type": "code",
   "execution_count": null,
   "id": "7f51bbdf",
   "metadata": {},
   "outputs": [],
   "source": []
  },
  {
   "cell_type": "markdown",
   "id": "9740e83e",
   "metadata": {},
   "source": [
    "### Key takeaways from modeling phase"
   ]
  },
  {
   "cell_type": "markdown",
   "id": "fef810ad",
   "metadata": {},
   "source": [
    "1. There is a crucial decision of trade off between the overall accuracy and accuracy for minority classes that has to be made to truly judge the above models.\n",
    "\n",
    "\n",
    "2. Light Gradient Boosting model is predicting 1923 True minority classes out of 2394 test data points which gives a recall score of 80%. This is the best model capturing most of the minority classes. However, the overall accuracy is 52%, lower than other models.\n",
    "\n",
    "\n",
    "3. A good trade off is achieved with Extreme Gradient Boosting with both overall accuracy and minority class recall of 66%.\n",
    "\n",
    "\n",
    "4. Randomforest (Bagging) and Decision Trees seem to give a brilliant overall accuracy of 90-99% But they fail to classify the minority Class (True for Fraudulent data). "
   ]
  },
  {
   "cell_type": "code",
   "execution_count": null,
   "id": "633007da",
   "metadata": {},
   "outputs": [],
   "source": []
  },
  {
   "cell_type": "markdown",
   "id": "ed883345",
   "metadata": {},
   "source": [
    "### About the Features"
   ]
  },
  {
   "cell_type": "markdown",
   "id": "290755b7",
   "metadata": {},
   "source": [
    "After running the models, the 3 most important feature that appears on every model's feature importance is\n",
    "1. percentage of fraud contribution by different bank accounts. (New feature during Feature Engineering)\n",
    "2. percentage of fraud contribution by different Merchants.  (New feature during Feature Engineering)\n",
    "3. the Transaction amount.\n",
    "\n",
    "The reason behind this could be the trend followed by a specific bank accounts and the place (by Merchant) where these Frauds happen."
   ]
  },
  {
   "cell_type": "code",
   "execution_count": null,
   "id": "eca83c44",
   "metadata": {},
   "outputs": [],
   "source": []
  },
  {
   "cell_type": "markdown",
   "id": "c2d4816d",
   "metadata": {},
   "source": [
    "### If I had more time, I'd"
   ]
  },
  {
   "cell_type": "markdown",
   "id": "885bf01a",
   "metadata": {},
   "source": [
    "1. Focus more on EDA and Feature Engineering. With the time span, I could create one level features which showed great importance during modeling. With more features showing the patterns followed by the people scamming, better results can be achieved. For instance, I would make use of the transaction_datetime raw feature to understand the pattern like how often do some bank accounts make a fraudulent transaction. It could be how ofter every day/week/month etc.\n",
    "\n",
    "2. Do hyperparameter optimization. Most of the models above are vanilla without their hyperparameters tuned. Hyperparameter tuning with grid search or random search cross validation can reduce overfitting and give optimal hyperparameters.\n"
   ]
  },
  {
   "cell_type": "code",
   "execution_count": null,
   "id": "cc03232a",
   "metadata": {},
   "outputs": [],
   "source": []
  },
  {
   "cell_type": "markdown",
   "id": "d50d5fe8",
   "metadata": {},
   "source": [
    "##### References "
   ]
  },
  {
   "cell_type": "markdown",
   "id": "e363b7da",
   "metadata": {},
   "source": [
    "- https://towardsdatascience.com/data-normalization-with-pandas-and-scikit-learn-7c1cc6ed6475\n",
    "- https://machinelearningmastery.com/feature-selection-with-real-and-categorical-data/\n",
    "- https://xgboost.readthedocs.io/en/stable/ \n",
    "- https://towardsdatascience.com/how-to-convert-json-into-a-pandas-dataframe-100b2ae1e0d8"
   ]
  },
  {
   "cell_type": "code",
   "execution_count": null,
   "id": "fdce45fa",
   "metadata": {},
   "outputs": [],
   "source": []
  }
 ],
 "metadata": {
  "kernelspec": {
   "display_name": "Python 3 (ipykernel)",
   "language": "python",
   "name": "python3"
  },
  "language_info": {
   "codemirror_mode": {
    "name": "ipython",
    "version": 3
   },
   "file_extension": ".py",
   "mimetype": "text/x-python",
   "name": "python",
   "nbconvert_exporter": "python",
   "pygments_lexer": "ipython3",
   "version": "3.8.8"
  }
 },
 "nbformat": 4,
 "nbformat_minor": 5
}
